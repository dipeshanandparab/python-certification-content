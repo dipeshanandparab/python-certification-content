{
  "nbformat": 4,
  "nbformat_minor": 0,
  "metadata": {
    "colab": {
      "name": "Assignment4_Dipesh_Parab18May2019.ipynb",
      "version": "0.3.2",
      "provenance": [],
      "collapsed_sections": []
    },
    "kernelspec": {
      "name": "python3",
      "display_name": "Python 3"
    }
  },
  "cells": [
    {
      "cell_type": "markdown",
      "metadata": {
        "id": "p3pUIF5pN9GB",
        "colab_type": "text"
      },
      "source": [
        "**1. Guess Game :**\n",
        "     \n",
        "**Store a number randomly. Allow User to guess the number in particular range. User will only get three legal chances to guess the number correctly.Prompt user after every attempt if guessed number is in range of corret number by 30.**\n"
      ]
    },
    {
      "cell_type": "code",
      "metadata": {
        "id": "9LVBl9qtYBJ3",
        "colab_type": "code",
        "colab": {
          "base_uri": "https://localhost:8080/",
          "height": 272
        },
        "outputId": "0fd5de1c-5fea-4104-b150-c07639e25317"
      },
      "source": [
        "number = 45\n",
        "\n",
        "print('''\n",
        "Guess the number correctly within 1 to 100\n",
        "Rules: \n",
        "1. You will get three chances only to guess.\n",
        "2. Number should be within the valid range.\n",
        "3. Minus(-) values are not allowed\n",
        "\n",
        "Lets, Begin !!!\n",
        "''')\n",
        "\n",
        "attempts = 3\n",
        "\n",
        "while attempts > 0:\n",
        "  user_number = int(input(\"Guess the number: \"))\n",
        "  if user_number == number:\n",
        "    print(\"Congratulations ! You have guessed the number correctly)\n",
        "    break\n",
        "  elif user_number != number:\n",
        "    if user_number - number < 30:\n",
        "      print(\"You are close. Put lower number within range 30 of current number\")\n",
        "    elif number - user_number < 30:\n",
        "      print(\"You are close. Put higher number within range 30 of current number\")\n",
        "    attempts = attempts - 1\n",
        "    print(f\"{attempts} attemps left\")\n",
        "  print(\"Sorry! You couln't guess the number\")\n",
        "\n",
        "  "
      ],
      "execution_count": 6,
      "outputs": [
        {
          "output_type": "stream",
          "text": [
            "\n",
            "Guess the number correctly within 1 to 100\n",
            "Rules: \n",
            "1. You will get three chances only to guess.\n",
            "2. Number should be within the valid range.\n",
            "3. Minus(-) values are not allowed\n",
            "\n",
            "Lets, Begin !!!\n",
            "\n",
            "Guess the number: 66\n",
            "You are close. Put lower number within range 30 of current number\n",
            "2 attemps left\n",
            "Sorry! You couln't guess the number\n",
            "Guess the number: 45\n",
            "Congratulations ! You have guessed th number in first attempt\n"
          ],
          "name": "stdout"
        }
      ]
    },
    {
      "cell_type": "markdown",
      "metadata": {
        "id": "PxLVvc2lNC4f",
        "colab_type": "text"
      },
      "source": [
        "**2. Origin of OK**\n",
        "\n",
        "      OK stands for “oll korrect, is actually a fad started in 1830's of wrongly abbriviating words.\n",
        "      It gained popularity over the time and newspapers of that time printed this as a joke on their front pages. \n",
        "      It gain so much popularity that 8th US President Martin Van Buren used O.K. for their presidential campaign. His birthplace was Old Kinderhook, N.Y which is abbreviated as O.K.\n",
        "      Supporters of Martin Van Buren started OK Club and promoted Martin Van Buren as OK (“oll korrect\") for his presidential campaign. \n",
        "      Martin Van Buren lost the election but OK is still most popular mispelled abbreviated fad still in used since early 18th centuary.\n",
        "      OK then. Good Bye."
      ]
    },
    {
      "cell_type": "markdown",
      "metadata": {
        "id": "7l-PlRAMNh37",
        "colab_type": "text"
      },
      "source": [
        "**3. Color Vs Colour**\n",
        "\n",
        "      Color and colour are alternative spellings of the same word. As a noun, the word refers to the various shades of visible light reflected back to the eye from a surface. As a verb, it refers to the action of imparting color to an object.\n",
        "      Color is the preferred spelling in American English.\n",
        "      In British English, colour is preferred."
      ]
    },
    {
      "cell_type": "markdown",
      "metadata": {
        "id": "JOEKG8M2NpyL",
        "colab_type": "text"
      },
      "source": [
        "**4. Types of errors, Error handling**\n",
        "\n",
        "In general terms there are following types of errors:\n",
        "\n",
        "    1. System Error\n",
        "        # Errors caused by system failure\n",
        "\n",
        "    2. Human Error\n",
        "        # Syntax errors: errors due to the fact that the syntax of the language is not respected.\n",
        "        # Semantic errors: errors due to an improper use of program statements.\n",
        "        # Logical errors: errors due to the fact that the specification is not respected.\n",
        "              \n",
        "    3. Environmental Error\n",
        "        # Errors caused by natural calamities or disasters\n",
        "\n"
      ]
    },
    {
      "cell_type": "markdown",
      "metadata": {
        "id": "hcNsEfAcO5R3",
        "colab_type": "text"
      },
      "source": [
        "**5. Read Books** \n",
        "    \n",
        "    1.Python Crash Course by Eric Matthes : Chapter 8,9 133-180 function and classes \n",
        "    2. Learn Python The Hard Way - upto 200"
      ]
    }
  ]
}