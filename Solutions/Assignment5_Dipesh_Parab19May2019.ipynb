{
  "nbformat": 4,
  "nbformat_minor": 0,
  "metadata": {
    "colab": {
      "name": "Assignment5_Dipesh_Parab19May2019.ipynb",
      "version": "0.3.2",
      "provenance": [],
      "collapsed_sections": []
    },
    "kernelspec": {
      "name": "python3",
      "display_name": "Python 3"
    },
    "accelerator": "GPU"
  },
  "cells": [
    {
      "cell_type": "markdown",
      "metadata": {
        "id": "H-UyaGLxPLEk",
        "colab_type": "text"
      },
      "source": [
        "**1. Program to display three laws of thermodynamics** "
      ]
    },
    {
      "cell_type": "code",
      "metadata": {
        "id": "cLP6e1pYPGtz",
        "colab_type": "code",
        "colab": {}
      },
      "source": [
        "number = int(input(\"Enter any number out of three to read law of 'Thermodynamics' : \"))\n",
        "\n",
        "def lawOfThermodynamics():\n",
        "    thermodynamics_laws = {\"1\":\"\\nThe first law of thermodynamics, also known as Law of Conservation of Energy, states that energy can neither be created nor destroyed; \\nenergy can only be transferred or changed from one form to another.\",\n",
        "                          \"2\":\"\\nThe second law of thermodynamics says that the entropy of any isolated system always increases. \\nIsolated systems spontaneously evolve towards thermal equilibrium—the state of maximum entropy of the system.\",\n",
        "                          \"3\":\"\\nThe third law of thermodynamics states that the entropy of a system approaches a constant value as the temperature approaches absolute zero. \\nThe entropy of a system at absolute zero is typically zero, and in all cases is determined only by the number of different ground states it has.\"}\n",
        "\n",
        "    if number == 1:\n",
        "      print(thermodynamics_laws[\"1\"])\n",
        "    elif number == 2:\n",
        "      print(thermodynamics_laws[\"2\"])\n",
        "    elif number == 3:\n",
        "      print(thermodynamics_laws[\"3\"])\n",
        "    else:\n",
        "      print(f\"There is no {number}th law of Thermodynamics\")\n",
        "\n",
        "lawOfThermodynamics()\n",
        "  "
      ],
      "execution_count": 0,
      "outputs": []
    },
    {
      "cell_type": "markdown",
      "metadata": {
        "id": "2UtUAlE6SwBX",
        "colab_type": "text"
      },
      "source": [
        "**2. Types of brackets in programming**\n",
        "\n",
        "( )  : Parenthesis\n",
        "\n",
        "      Parentheses are used for two purposes: \n",
        "            (1) to control the order of operations in an expression, and \n",
        "            (2) to supply parameters to a constructor or method\n",
        "\n",
        "[ ]  : Square Brackets\n",
        "\n",
        "      Brackets are used to index into an array.\n",
        "\n",
        "{ } : Braces (\"curly braces\")\n",
        "\n",
        "      Braces are used to group statements and declarations.\n",
        "      The contents of a class or interface are enclosed in braces.\n",
        "      Method bodies and constructor bodies are enclosed in braces.\n",
        "      Braces are used to group the statements in an if statement, a loop, or other control structures.\n",
        "\n",
        "<> : Angle Brackets\n"
      ]
    },
    {
      "cell_type": "markdown",
      "metadata": {
        "id": "i9hFmqIoTh47",
        "colab_type": "text"
      },
      "source": [
        "**3. Study about self() and init() in python**\n",
        "\n",
        "self :\n",
        "\n",
        "self represents the instance of the class. By using the \"self\" keyword we can access the attributes and methods of the class in python.\n",
        "\n",
        "__ init __ :\n",
        "\n",
        "\"__ init __ \" is a reseved method in python classes. It is known as a constructor in object oriented concepts. This method called when an object is created from the class and it allow the class to initialize the attributes of a class.\n",
        "\n",
        "\n",
        "Example:\n",
        "\n",
        "class Car():\n",
        "  \n",
        "  def __ init __(self, color, company, model, year):\n",
        "  \n",
        "      self.color = color\n",
        "      self.company = company\n",
        "      self.model = model\n",
        "      self.year = year\n",
        "      \n",
        "  def carInfo(self):\n",
        "  \n",
        "    return self.color, self.company, self.model, self.year\n",
        "      \n",
        "      \n",
        "    \n",
        "suzuki = Car(\"White\",\"Suzuki\",\"Ciaz\",2019)\n",
        "\n",
        "print(suzuki.carInfo())\n",
        "\n"
      ]
    },
    {
      "cell_type": "markdown",
      "metadata": {
        "id": "bv_tEUopToz3",
        "colab_type": "text"
      },
      "source": [
        "**4. Read about Roko's Basilisk and write a program similar to the theory**"
      ]
    },
    {
      "cell_type": "code",
      "metadata": {
        "id": "xr76uU8jXBL4",
        "colab_type": "code",
        "colab": {
          "base_uri": "https://localhost:8080/",
          "height": 564
        },
        "outputId": "3295b19b-8587-4db1-d701-a834fd4f609d"
      },
      "source": [
        "from random import randint\n",
        "\n",
        "print('''\n",
        "******************************************************************\n",
        "Hello, I am Basilisc\n",
        "\n",
        "You have two options:\n",
        "A : Devote your life to helping creating Roko's Basilisk\n",
        "B : 3 chances if 0 then Eternal Torment or Nothing(go back to life)\n",
        "*******************************************************************''')\n",
        "\n",
        "destiny = True\n",
        "life_years = randint(0,100)\n",
        "\n",
        "while destiny == True:\n",
        "  user_option = input(\"Think wisely and choose one option : \")\n",
        "  if user_option.upper() == 'A':\n",
        "    print(f\"\\nYou have devoted your life to Basilisk.\\nGo Leave for {life_years} years to helping creating Roko's Basilisk\")\n",
        "    destiny = False\n",
        "  elif user_option.upper() == 'B':\n",
        "    i = 1\n",
        "    while i<=3:\n",
        "      result = randint(0,10)\n",
        "      if result == 0:\n",
        "        print(f\"You got {result}\")\n",
        "        print(f\"As we agreed. You will suffer in eternal torment.\\nGo Leave for {life_years} years to helping creating Roko's Basilisk\")\n",
        "        break\n",
        "      else:\n",
        "        if i!= 3:\n",
        "          print(f\"You got {result}\")\n",
        "        else:\n",
        "          print(f\"You got {result}\")\n",
        "          print(f\"\\nNothing will happen to you.\\nGo Leave for {life_years} years to helping creating Roko's Basilisk\")\n",
        "      i+=1\n",
        "\n",
        "    counter = 0  \n",
        "    while counter <= life_years:\n",
        "      print(counter,end= \",\")\n",
        "      counter += 1\n",
        "    print(f\"\\nYou have completed your {life_years} years.\\n******************************************************************\\nWelcome again you have two options. ^_^\")\n",
        "    destiny = True"
      ],
      "execution_count": 45,
      "outputs": [
        {
          "output_type": "stream",
          "text": [
            "\n",
            "******************************************************************\n",
            "Hello, I am Basilisc\n",
            "\n",
            "You have two options:\n",
            "A : Devote your life to helping creating Roko's Basilisk\n",
            "B : 3 chances if 0 then Eternal Torment or Nothing(go back to life)\n",
            "*******************************************************************\n",
            "Think wisely and choose one option : b\n",
            "You got 8\n",
            "You got 8\n",
            "You got 4\n",
            "\n",
            "Nothing will happen to you.\n",
            "Go Leave for 99 years to helping creating Roko's Basilisk\n",
            "0,1,2,3,4,5,6,7,8,9,10,11,12,13,14,15,16,17,18,19,20,21,22,23,24,25,26,27,28,29,30,31,32,33,34,35,36,37,38,39,40,41,42,43,44,45,46,47,48,49,50,51,52,53,54,55,56,57,58,59,60,61,62,63,64,65,66,67,68,69,70,71,72,73,74,75,76,77,78,79,80,81,82,83,84,85,86,87,88,89,90,91,92,93,94,95,96,97,98,99,\n",
            "You have completed your 99 years.\n",
            "******************************************************************\n",
            "Welcome again you have two options. ^_^\n",
            "Think wisely and choose one option : b\n",
            "You got 0\n",
            "As we agreed. You will suffer in eternal torment.\n",
            "Go Leave for 99 years to helping creating Roko's Basilisk\n",
            "0,1,2,3,4,5,6,7,8,9,10,11,12,13,14,15,16,17,18,19,20,21,22,23,24,25,26,27,28,29,30,31,32,33,34,35,36,37,38,39,40,41,42,43,44,45,46,47,48,49,50,51,52,53,54,55,56,57,58,59,60,61,62,63,64,65,66,67,68,69,70,71,72,73,74,75,76,77,78,79,80,81,82,83,84,85,86,87,88,89,90,91,92,93,94,95,96,97,98,99,\n",
            "You have completed your 99 years.\n",
            "******************************************************************\n",
            "Welcome again you have two options. ^_^\n",
            "Think wisely and choose one option : a\n",
            "\n",
            "You have devoted your life to Basilisk.\n",
            "Go Leave for 99 years to helping creating Roko's Basilisk\n"
          ],
          "name": "stdout"
        }
      ]
    },
    {
      "cell_type": "markdown",
      "metadata": {
        "id": "Zo5f7KqsTym1",
        "colab_type": "text"
      },
      "source": [
        "**5. Import time module to check program execution time**\n",
        "\n"
      ]
    },
    {
      "cell_type": "code",
      "metadata": {
        "id": "7MJxVAo6UXTX",
        "colab_type": "code",
        "outputId": "3b983428-2a16-489a-b6b9-865dd92e155b",
        "colab": {
          "base_uri": "https://localhost:8080/",
          "height": 51
        }
      },
      "source": [
        "import time\n",
        "start = time.time()\n",
        " \n",
        "# ******************************************************************************\n",
        "class house():\n",
        "  def __init__(self, house_name, symbol, place):\n",
        "    self.house_name = house_name\n",
        "    self.symbol = symbol\n",
        "    self.place = place\n",
        "    \n",
        "  def details(self):\n",
        "    return self.house_name, self.symbol, self.place\n",
        "  \n",
        "jon_snow = house(\"Stark\",\"Wolf\",\"Winterfell\")\n",
        "\n",
        "print(jon_snow.details())\n",
        "\n",
        "# ******************************************************************************   \n",
        "\n",
        "end = time.time()\n",
        "exec_time = end - start\n",
        "print(f\"Execuion Time : {exec_time}\")"
      ],
      "execution_count": 0,
      "outputs": [
        {
          "output_type": "stream",
          "text": [
            "('Stark', 'Wolf', 'Winterfell')\n",
            "Execuion Time : 0.0006055831909179688\n"
          ],
          "name": "stdout"
        }
      ]
    },
    {
      "cell_type": "markdown",
      "metadata": {
        "id": "0FirK79iT5jA",
        "colab_type": "text"
      },
      "source": [
        "**6. Write a program to calculate following:**\n",
        "      - Mean, Mode, Median, Variance, Standard Deviation"
      ]
    },
    {
      "cell_type": "code",
      "metadata": {
        "id": "vDE_bhnKil_g",
        "colab_type": "code",
        "colab": {}
      },
      "source": [
        "from statistics import mode \n",
        "from math import sqrt\n",
        "\n",
        "numbers = input(\"Enter sequence of numbers separated by ',' : \")\n",
        "\n",
        "list = numbers.split(\",\")\n",
        "\n",
        "# Mean = x1+x2+x3....+xn / n\n",
        "def calculate_mean():\n",
        "  sum = 0\n",
        "  for i in list:\n",
        "    sum += int(i)\n",
        "  mean = sum / len(list)\n",
        "  return mean\n",
        "\n",
        "# Median = Middle value of list after ascending order (if total number of elements in list is odd)\n",
        "# Median = Middle two value of list after ascending order / 2 (if total number of elements in list is even)\n",
        "def calculate_median():\n",
        "  if len(list)%2 != 0:\n",
        "    n = int(len(list)/2)\n",
        "    median = list[n]\n",
        "    return median\n",
        "  else:\n",
        "    m = int(len(list)/2) - 1\n",
        "    n = int(len(list)/2)\n",
        "    avg = int(list[m]) + int(list [n])\n",
        "    median = avg / 2\n",
        "    return median\n",
        "    \n",
        "#Mode = Maximum number of occurances by a particular number in a list\n",
        "def calculate_mode(list): \n",
        "\treturn mode(list) \n",
        "\n",
        "mean_value = calculate_mean() \n",
        "print(f\"Mean : {mean_value}\")\n",
        "\n",
        "median_value = calculate_median()\n",
        "print(f\"Median : {median_value}\")\n",
        "\n",
        "mode_value = calculate_mode(list)\n",
        "print(f\"Mode : {mode_value}\")\n",
        "\n",
        "\n",
        "#variance = sumission of square of difference between each element and mean / number of elements\n",
        "def calculate_variance():\n",
        "  sumission = 0\n",
        "  for i in list:\n",
        "    difference = (int(i) - mean_value)**2\n",
        "    sumission = sumission + difference\n",
        "  return sumission\n",
        "\n",
        "variance = calculate_variance()\n",
        "print(f\"Variance : {variance}\")\n",
        "\n",
        "standard_deviation = sqrt(calculate_variance())\n",
        "print(f\"Standard Deviation : {standard_deviation}\")"
      ],
      "execution_count": 0,
      "outputs": []
    }
  ]
}