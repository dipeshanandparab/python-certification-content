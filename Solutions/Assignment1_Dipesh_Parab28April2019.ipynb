{
  "nbformat": 4,
  "nbformat_minor": 0,
  "metadata": {
    "colab": {
      "name": "Exercise1_Dipesh_Parab.ipynb",
      "version": "0.3.2",
      "provenance": [],
      "collapsed_sections": []
    },
    "kernelspec": {
      "name": "python3",
      "display_name": "Python 3"
    },
    "accelerator": "GPU"
  },
  "cells": [
    {
      "cell_type": "markdown",
      "metadata": {
        "id": "cTAhjxygU_CP",
        "colab_type": "text"
      },
      "source": [
        "**1. Write a python Program to Add ,Multiply, Divide & Substract two numbers.**"
      ]
    },
    {
      "cell_type": "code",
      "metadata": {
        "id": "8HOiU6-qVOQW",
        "colab_type": "code",
        "colab": {}
      },
      "source": [
        "a=int(input(\"Enter First Number: \"))\n",
        "b=int(input(\"Enter Second Number: \"))\n",
        "print(f\"Addition of {a} and {b} is {a+b}\")\n",
        "print(f\"Subtraction of {a} and {b} is {a-b}\")\n",
        "print(f\"Product of {a} and {b} is {a*b}\")\n",
        "print(f\"Division of {a} and {b} is {a/b}\")"
      ],
      "execution_count": 0,
      "outputs": []
    },
    {
      "cell_type": "markdown",
      "metadata": {
        "id": "juKoCxa1Wusq",
        "colab_type": "text"
      },
      "source": [
        "**2. Python Program for simple interest**"
      ]
    },
    {
      "cell_type": "code",
      "metadata": {
        "id": "KP-Bv5McW52o",
        "colab_type": "code",
        "colab": {}
      },
      "source": [
        "principal_amount = float(input(\"Enter Principal Amount: \"))\n",
        "interest_rate = 4\n",
        "time = int(input(\"Enter No. of Years: \"))\n",
        "\n",
        "#Formula : i = p(1+rt)\n",
        "interest_amount = principal_amount * (1 + interest_rate/100 * time)         \n",
        "print(f\"Total Interest is Rs.{interest_amount}\")"
      ],
      "execution_count": 0,
      "outputs": []
    },
    {
      "cell_type": "markdown",
      "metadata": {
        "id": "EgnOlNVmZyvV",
        "colab_type": "text"
      },
      "source": [
        "**3. Python Program for compound interest**"
      ]
    },
    {
      "cell_type": "code",
      "metadata": {
        "id": "rflVcwZlZ5hn",
        "colab_type": "code",
        "outputId": "fee497ef-fa51-4acf-86ab-2c7e7c060448",
        "colab": {
          "base_uri": "https://localhost:8080/",
          "height": 68
        }
      },
      "source": [
        "principal_amount = float(input(\"Enter Principal Amount: \"))\n",
        "interest_rate = 4\n",
        "years = int(input(\"Enter No. of Years: \"))\n",
        "time = years*12\n",
        "\n",
        "for i in range(0,time):\n",
        "  interest_amount = principal_amount * interest_rate/100\n",
        "  principal_amount += interest_amount\n",
        "print(f\"Total Amount after {years} years : Rs.{principal_amount}\")"
      ],
      "execution_count": 0,
      "outputs": [
        {
          "output_type": "stream",
          "text": [
            "Enter Principal Amount: 100\n",
            "Enter No. of Years: 4\n",
            "Total Amount after 48 years : Rs.657.0528241751391\n"
          ],
          "name": "stdout"
        }
      ]
    },
    {
      "cell_type": "markdown",
      "metadata": {
        "id": "-0uxuohMdiXP",
        "colab_type": "text"
      },
      "source": [
        "**4. Python Program to check Armstrong Number**"
      ]
    },
    {
      "cell_type": "code",
      "metadata": {
        "id": "R_s0cDMHdpRR",
        "colab_type": "code",
        "colab": {}
      },
      "source": [
        "number = input(\"Enter three digit number: \")\n",
        "armstrong = 0\n",
        "\n",
        "for i in number:\n",
        "  armstrong += int(i)**3\n",
        "if int(number) == armstrong:\n",
        "  print(f\"{number} is Armstrong Number\")\n",
        "else:\n",
        "  print(f\"{number} is not Armstrong Number\")"
      ],
      "execution_count": 0,
      "outputs": []
    },
    {
      "cell_type": "markdown",
      "metadata": {
        "id": "_ZIYJ30Im9GH",
        "colab_type": "text"
      },
      "source": [
        "**5. Given an integer, x perform the following conditional actions:\n",
        "•\tIf  x is odd, print Weird\n",
        "•\tIf  x is even and in the inclusive range of  to , print Not Weird\n",
        "•\tIf  x is even and in the inclusive range of  to , print Weird\n",
        "•\tIf  x is even and greater than , print Not Weird**"
      ]
    },
    {
      "cell_type": "code",
      "metadata": {
        "id": "1gIXtVQsnPRo",
        "colab_type": "code",
        "colab": {}
      },
      "source": [
        "x = int(input(\"Enter a Number: \"))\n",
        "if x%2==1:\n",
        "  print(\"Weird\")\n",
        "elif x%2==0:\n",
        "  print(\"Not Weird\")\n",
        "  if x>2:\n",
        "    print(\"Not Weird\")\n"
      ],
      "execution_count": 0,
      "outputs": []
    },
    {
      "cell_type": "markdown",
      "metadata": {
        "id": "AGNjIylTn_PT",
        "colab_type": "text"
      },
      "source": [
        "**6. Python Program to find area of a circle**"
      ]
    },
    {
      "cell_type": "code",
      "metadata": {
        "id": "taaSu1zKoqch",
        "colab_type": "code",
        "colab": {}
      },
      "source": [
        "radius = int(input(\"Enter Radius of a Circle: \"))\n",
        "area_of_circle = 3.14 * radius**2\n",
        "print(f\"Area of Circle is : {area_of_circle}\")\n"
      ],
      "execution_count": 0,
      "outputs": []
    },
    {
      "cell_type": "markdown",
      "metadata": {
        "id": "_-zQBCJ5qfkE",
        "colab_type": "text"
      },
      "source": [
        "**7. Python program to check whether a number is Prime or not**"
      ]
    },
    {
      "cell_type": "code",
      "metadata": {
        "id": "wp6hqm3UqGgY",
        "colab_type": "code",
        "outputId": "aff6d361-f7a0-460c-ab7f-6f998f9c304c",
        "colab": {
          "base_uri": "https://localhost:8080/",
          "height": 51
        }
      },
      "source": [
        "number = int(input(\"Enter a Number: \"))\n",
        "if number>1:\n",
        "  for i in range(2,number//2+1):\n",
        "    if number%i==0:\n",
        "#       print(f\"{number} is not a prime number\")\n",
        "        print(\"{} is not a prime number\".format(number))\n",
        "        break\n",
        "  else:\n",
        "    print(f\"{number} is a prime number\") \n",
        "else:\n",
        "  print(f\"{number} is not a prime number\")"
      ],
      "execution_count": 0,
      "outputs": [
        {
          "output_type": "stream",
          "text": [
            "Enter a Number: 229\n",
            "229 is a prime number\n"
          ],
          "name": "stdout"
        }
      ]
    },
    {
      "cell_type": "markdown",
      "metadata": {
        "id": "f7DVjd3JqtwA",
        "colab_type": "text"
      },
      "source": [
        "**8. Python Program for Fibonacci numbers**"
      ]
    },
    {
      "cell_type": "code",
      "metadata": {
        "id": "SPvqbT84qw9_",
        "colab_type": "code",
        "outputId": "76e091a9-b09a-430c-8246-956d4d538ad8",
        "colab": {
          "base_uri": "https://localhost:8080/",
          "height": 51
        }
      },
      "source": [
        "last_num = int(input(\"Enter the last number in the series: \"))\n",
        "start_num = 0\n",
        "second_num = 1\n",
        "\n",
        "for i in range(1,last_num): \n",
        "  next_num = start_num + second_num \n",
        "  print(next_num , end = \" \")\n",
        "  \n",
        "  start_num = second_num\n",
        "  second_num = next_num\n",
        "  "
      ],
      "execution_count": 0,
      "outputs": [
        {
          "output_type": "stream",
          "text": [
            "Enter the last number in the series: 20\n",
            "1 2 3 5 8 13 21 34 55 89 144 233 377 610 987 1597 2584 4181 6765 "
          ],
          "name": "stdout"
        }
      ]
    },
    {
      "cell_type": "markdown",
      "metadata": {
        "id": "sNmedA4fqxqz",
        "colab_type": "text"
      },
      "source": [
        "**9. Python Program for How to check if a given number is Fibonacci number?**"
      ]
    },
    {
      "cell_type": "code",
      "metadata": {
        "id": "0jdvnKLvqytM",
        "colab_type": "code",
        "colab": {}
      },
      "source": [
        "number = input(\"Enter a Three Digit Number: \")\n",
        "last_index = len(number)-1\n",
        "sum = 0\n",
        "for i in range(0,2):\n",
        "  sum += int(number[i])\n",
        "if sum == int(number[last_index]):\n",
        "  print(f\"{number} is a fibbonaci number\")\n",
        "else:\n",
        "  print(f\"{number} is not a fibbonaci number\")"
      ],
      "execution_count": 0,
      "outputs": []
    },
    {
      "cell_type": "markdown",
      "metadata": {
        "id": "RE_7yh53rL8d",
        "colab_type": "text"
      },
      "source": [
        "**10. Program to print ASCII Value of a character**"
      ]
    },
    {
      "cell_type": "code",
      "metadata": {
        "id": "BdGV8-CWrbva",
        "colab_type": "code",
        "colab": {}
      },
      "source": [
        "character = input(\"Enter any character: \") \n",
        "if len(character) > 1:\n",
        "  print(\"Please Enter Single Character\")\n",
        "else:\n",
        "  print(f\"ASCII Value of {character} is {ord(character)}\")"
      ],
      "execution_count": 0,
      "outputs": []
    },
    {
      "cell_type": "markdown",
      "metadata": {
        "id": "hOoTbStLrcP4",
        "colab_type": "text"
      },
      "source": [
        "**11. Python Program for Sum of first n natural numbers**"
      ]
    },
    {
      "cell_type": "code",
      "metadata": {
        "id": "okLM3Pi7reeN",
        "colab_type": "code",
        "colab": {}
      },
      "source": [
        "number = int(input(\"Please Enter nth value: \"))\n",
        "sum = 0\n",
        "\n",
        "for i in range (1,number+1):\n",
        "  sum = sum + i\n",
        "print(f\"Sum of {number} natural numbers is: {sum}\")"
      ],
      "execution_count": 0,
      "outputs": []
    },
    {
      "cell_type": "markdown",
      "metadata": {
        "id": "-EOKU_AOre81",
        "colab_type": "text"
      },
      "source": [
        "\n",
        "**12. Python Program for Program to find area of a Square**"
      ]
    },
    {
      "cell_type": "code",
      "metadata": {
        "id": "Jw_BPypCriOL",
        "colab_type": "code",
        "colab": {}
      },
      "source": [
        "side = int(input(\"Enter Side of a Square in cm: \"))\n",
        "area_of_square = side**2\n",
        "print(f\"Area of Square is {area_of_square} sqcm\")"
      ],
      "execution_count": 0,
      "outputs": []
    },
    {
      "cell_type": "markdown",
      "metadata": {
        "id": "io1E6FJUrixZ",
        "colab_type": "text"
      },
      "source": [
        "\n",
        "**13. Python program to find weather the string entered by user is “hello world” or not.**"
      ]
    },
    {
      "cell_type": "code",
      "metadata": {
        "id": "6i3YJJYHrk7y",
        "colab_type": "code",
        "colab": {}
      },
      "source": [
        "user_string = input(\"Enter a string: \")\n",
        "if user_string.upper() == \"HELLO WORLD\":\n",
        "  print(f\"User Correctly Entered {user_string}\")\n",
        "else:\n",
        "  print(f\"User Entered {user_string}\")"
      ],
      "execution_count": 0,
      "outputs": []
    },
    {
      "cell_type": "markdown",
      "metadata": {
        "id": "-JF2voLorlTs",
        "colab_type": "text"
      },
      "source": [
        "**14. Python program to print the table of the input number.**"
      ]
    },
    {
      "cell_type": "code",
      "metadata": {
        "id": "t2W6Zzudrm_5",
        "colab_type": "code",
        "colab": {}
      },
      "source": [
        "number = int(input(\"Enter a Number: \"))\n",
        "\n",
        "for i in range(1,11):\n",
        "  class_table = i * number\n",
        "  print(f\"{number} X {i} = {class_table}\")"
      ],
      "execution_count": 0,
      "outputs": []
    }
  ]
}