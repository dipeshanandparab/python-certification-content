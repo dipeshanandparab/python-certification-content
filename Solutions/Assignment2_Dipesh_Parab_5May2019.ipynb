{
  "nbformat": 4,
  "nbformat_minor": 0,
  "metadata": {
    "colab": {
      "name": "Exercise2_Dipesh_Parab_12May2019.ipynb",
      "version": "0.3.2",
      "provenance": [],
      "collapsed_sections": []
    },
    "kernelspec": {
      "name": "python3",
      "display_name": "Python 3"
    },
    "accelerator": "GPU"
  },
  "cells": [
    {
      "cell_type": "markdown",
      "metadata": {
        "id": "Nl-bRjZ_9cUR",
        "colab_type": "text"
      },
      "source": [
        "**1.  OOP'S Concept 5 principles - Code to show them**\n",
        "\n"
      ]
    },
    {
      "cell_type": "code",
      "metadata": {
        "id": "X-7RUFd6-WmG",
        "colab_type": "code",
        "outputId": "c9d1ad05-c6f9-4823-8ab9-36625c56eb09",
        "colab": {
          "base_uri": "https://localhost:8080/",
          "height": 238
        }
      },
      "source": [
        "print('''\n",
        "1. What is OOPs?\n",
        "2. What is Object and Class?\n",
        "3. What are four characteristics of OOPs?\n",
        "4. Explain Data Abstraction.\n",
        "5. Explain Encapsulation.\n",
        "6. Explain Inheritance.\n",
        "7. Explain Polymorphism.\n",
        "''')\n",
        "\n",
        "qnumber = int(input(\"Ask any of the above questions by typing question number: \"))\n",
        "\n",
        "if qnumber == 1:\n",
        "  print('''\n",
        "  Object-oriented programming is a programming paradigm based on the concept of \"objects\", which can contain data, in the form of fields, \\nand code, in the form of procedures.\n",
        "  ''')\n",
        "elif qnumber == 2:\n",
        "  print('''\n",
        "  Object is instance of a clas\\n\n",
        "  Object is simply a collection of data (variables) and methods (functions) that act on those data. And, class is a blueprint for the object.\n",
        "  ''')\n",
        "elif qnumber == 3:\n",
        "  print('''\n",
        "  1. Abstraction\n",
        "  2. Encapsulation\n",
        "  3. Inheritance\n",
        "  4. Polymorphism\n",
        "  ''')\n",
        "elif qnumber == 4:\n",
        "  print('''\n",
        "  Data abstraction — refers to providing only essential information to the outside world and hiding their background details.\n",
        "  ''')\n",
        "elif qnumber == 5:\n",
        "  print('''\n",
        "  Encapsulation — is an object-oriented programming concept that binds together the data and functions that manipulate the data, \\nand that keeps both safe from outside interference and misuse. Data encapsulation led to the important OOP concept of data hiding\n",
        "  ''')\n",
        "elif qnumber == 6:\n",
        "  print('''    \n",
        "  Inheritance — is when an object or class is based on another object or class using the same implementation.\n",
        "  ''')\n",
        "elif qnumber == 7:\n",
        "  print('''  \n",
        "  Polymorphism — is when calling code can be agnostic as to whether an object belongs to a parent class or one of its descendants. \\nFor example, a function might call “make_full_name()” on an object, which will work whether the object is of class Person or class Employee. \\nThis is another type of abstraction which simplifies code external to the class hierarchy and enables strong separation of content.\n",
        "  ''')\n",
        "else:\n",
        "  print(\"Please Enter Question number from 1 to 7.\")"
      ],
      "execution_count": 0,
      "outputs": [
        {
          "output_type": "stream",
          "text": [
            "\n",
            "1. What is OOPs?\n",
            "2. What is Object and Class?\n",
            "3. What are four characteristics of OOPs?\n",
            "4. Explain Data Abstraction.\n",
            "5. Explain Encapsulation.\n",
            "6. Explain Inheritance.\n",
            "7. Explain Polymorphism.\n",
            "\n",
            "Ask any of the above questions by typing question number: 6\n",
            "    \n",
            "  Inheritance — is when an object or class is based on another object or class using the same implementation.\n",
            "  \n"
          ],
          "name": "stdout"
        }
      ]
    },
    {
      "cell_type": "markdown",
      "metadata": {
        "id": "NEyo5avN-YSm",
        "colab_type": "text"
      },
      "source": [
        "**2.  Code to get Lines of source code in Facebook, Google, Youtube, Quora, Instagram**"
      ]
    },
    {
      "cell_type": "code",
      "metadata": {
        "id": "46tWl_ul-d0T",
        "colab_type": "code",
        "outputId": "49f4b5c4-7e75-40d7-b806-60261dfeb929",
        "colab": {
          "base_uri": "https://localhost:8080/",
          "height": 68
        }
      },
      "source": [
        "print(\"Facebook, Google, Youtube, Quora, Instagram\")\n",
        "company = input(\"Enter one name among the companies listed above: \") \n",
        "\n",
        "def sourceCode(company):\n",
        "\tif company.lower() == 'facebook':\n",
        "\t\tprint(f\"{company} has approximately 62 million lines of source code without backend.\")\n",
        "\telif company.lower() == 'google':\n",
        "\t\tprint(f\"{company} has 2 billion lines of source code as google have many services.\")\n",
        "\telif company.lower() == 'youtube':\n",
        "\t\tprint(f\"{company} has lines of source code\")\n",
        "\telif company.lower() == 'quora':\n",
        "\t\tprint(f\"{company} has lines of source code\")\n",
        "\telif company.lower() == 'instagram':\n",
        "\t\tprint(f\"{company} has 2 billion lines of source code\")\n",
        "\telse:\n",
        "\t\tprint(f\"Sorry! {company} is not listed above\")\n",
        "\n",
        "sourceCode(company)"
      ],
      "execution_count": 0,
      "outputs": [
        {
          "output_type": "stream",
          "text": [
            "Facebook, Google, Youtube, Quora, Instagram\n",
            "Enter one name among the companies listed above: dasdsa\n",
            "Sorry! dasdsa is not listed above\n"
          ],
          "name": "stdout"
        }
      ]
    },
    {
      "cell_type": "markdown",
      "metadata": {
        "id": "Jk52lDxm-ecK",
        "colab_type": "text"
      },
      "source": [
        "**3.  Four Sections of Python Book\n",
        "        - Exercise\n",
        "        - What You Should See\n",
        "        - Study Drills\n",
        "        - Common Student Questions**"
      ]
    },
    {
      "cell_type": "markdown",
      "metadata": {
        "id": "jKPJRrMp-nJQ",
        "colab_type": "text"
      },
      "source": [
        "**4.  Get Name, Date of Birth and Favorite month from user. Greet User with name and tell his/her\n",
        "          age. Tell no. of days in birth month and month of interest.**"
      ]
    },
    {
      "cell_type": "code",
      "metadata": {
        "id": "XpQEhe2H-oNS",
        "colab_type": "code",
        "outputId": "2f0b9779-131f-404a-8768-950d13a1b344",
        "colab": {
          "base_uri": "https://localhost:8080/",
          "height": 136
        }
      },
      "source": [
        "name = input(\"Enter Name: \")\n",
        "dob = input(\"Please Enter DOB in DDMMYYYY Format: \")\n",
        "fav_month = input(\"Please Enter Month of interest: \")\n",
        "\n",
        "year = int(dob[4:8])\n",
        "month = int(dob[2:4])\n",
        "\n",
        "def monthDays(name, month, year,fav_month):\n",
        "  print(f\"Hi! {name}\")\n",
        "  \n",
        "  if month==1 or month==3 or month==5 or month==7 or month==8 or month==10 or month==12:\n",
        "      for i in range(1,32):\n",
        "        print(i,end=\" \")\n",
        "  elif month==4 or month==6 or month==9 or month==11:\n",
        "      for i in range(1,31):\n",
        "        print(i,end=\" \")\n",
        "  elif month==2 and year % 4 == 0:\n",
        "      for i in range(1,30):\n",
        "        print(i,end=\" \")\n",
        "  elif month==2 and year % 4 != 0:\n",
        "      for i in range(1,29):\n",
        "        print(i,end=\" \")\n",
        "  elif month >12:\n",
        "    print(\"Please Give Proper Date of Birth\")\n",
        "    \n",
        "  if fav_month==\"January\" or fav_month==\"March\" or fav_month==\"May\" or fav_month==\"July\" or fav_month==\"August\" or fav_month==\"October\" or fav_month==\"December\":\n",
        "    print(f\"\\nYour month of interest {fav_month} has 31 days\")\n",
        "  elif fav_month==\"April\" or fav_month==\"June\" or fav_month==\"september\" or fav_month==\"November\":\n",
        "    print(f\"\\nYour month of interest {fav_month} has 30 days\")\n",
        "  elif fav_month==\"February\":\n",
        "    print(f\"\\nYour month of interest {fav_month} has 29 days\")\n",
        "    \n",
        "monthDays(name,month,year,fav_month)"
      ],
      "execution_count": 0,
      "outputs": [
        {
          "output_type": "stream",
          "text": [
            "Enter Name: saxas\n",
            "Please Enter DOB in DDMMYYYY Format: 10192993\n",
            "Please Enter Month of interest: May\n",
            "Hi! saxas\n",
            "Please Give Proper Date of Birth\n",
            "\n",
            "Your month of interest May has 31 days\n"
          ],
          "name": "stdout"
        }
      ]
    },
    {
      "cell_type": "markdown",
      "metadata": {
        "id": "pbEcuNYN-vDS",
        "colab_type": "text"
      },
      "source": [
        "**5.  Github Account \n",
        "          Link - https://github.com/dipeshanandparab\n",
        "          Gitlab Account\n",
        "          Link - https://gitlab.com/dipeshanandparab?nav_source=navbar**"
      ]
    },
    {
      "cell_type": "markdown",
      "metadata": {
        "id": "jFYpVdlPHxL5",
        "colab_type": "text"
      },
      "source": [
        "**6.  Functions\n",
        "        A function is a block of organized, reusable code that is used to perform a single, related\n",
        "        action. Functions provide better modularity for your application and a high degree of code\n",
        "        reusing.\n",
        "        There are three types of functions:\n",
        "            -Inbuilt or pre defined functions \n",
        "            -User Defined functions\n",
        "            -Anonymous or lambda functions\n",
        "        Function Syntax:\n",
        "        def functionname( parameters ):\n",
        "              \"function_docstring\"\n",
        "               function_suite\n",
        "               return [expression]**"
      ]
    },
    {
      "cell_type": "markdown",
      "metadata": {
        "id": "qkPKrFMnHzyq",
        "colab_type": "text"
      },
      "source": [
        "**7.  Diff Methods vs Functions\n",
        "        Method\n",
        "        A method in python is somewhat similar to a function, except it is associated with\n",
        "        object/classes. \n",
        "        Methods in python are very similar to functions except for two major differences.\n",
        "                The method is implicitly used for an object for which it is called.\n",
        "                The method is accessible to data that is contained within the class.\n",
        "        In Short, a method is a function which belongs to an object.**"
      ]
    },
    {
      "cell_type": "markdown",
      "metadata": {
        "id": "8DbPT6UUH2nU",
        "colab_type": "text"
      },
      "source": [
        "**8.  Random module in Python\n",
        "          You can generate random numbers in Python by using random module. \n",
        "          Python offers random module that can generate random numbers. \n",
        "          These are pseudo-random number as the sequence of number generated depends on the\n",
        "          seed. \n",
        "          If the seeding value is same, the sequence will be the same.**"
      ]
    }
  ]
}