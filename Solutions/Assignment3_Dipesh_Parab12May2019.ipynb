{
  "nbformat": 4,
  "nbformat_minor": 0,
  "metadata": {
    "colab": {
      "name": "Assignment3_Dipesh_Parab12May2019.ipynb",
      "version": "0.3.2",
      "provenance": [],
      "collapsed_sections": []
    },
    "kernelspec": {
      "name": "python3",
      "display_name": "Python 3"
    }
  },
  "cells": [
    {
      "cell_type": "markdown",
      "metadata": {
        "id": "AvmoI7uaTmKf",
        "colab_type": "text"
      },
      "source": [
        "**1. Take input from user: name, dob, gender. Output should be that persons rashifal**"
      ]
    },
    {
      "cell_type": "code",
      "metadata": {
        "id": "pt_kuh3UTfAV",
        "colab_type": "code",
        "outputId": "1994e845-1b56-4b96-9a85-82ceaf3cf09e",
        "colab": {
          "base_uri": "https://localhost:8080/",
          "height": 323
        }
      },
      "source": [
        "name =  input(\"Enter your name: \")\n",
        "dob = input(\"Enter date of brth in format DDMMYYYY: \")\n",
        "gender = input(\"Enter Your gender: \")\n",
        "\n",
        "class rashifal:\n",
        "  \n",
        "  \n",
        "  def generateRashifal(self, name, gender, dob):\n",
        "    self.name = name\n",
        "    self.gender = gender\n",
        "    self.month = dob[2:4]\n",
        "    self.date = dob[0:2]\n",
        "    \n",
        "    new_month = int(self.month)\n",
        "    new_date = int(self.date)\n",
        "    \n",
        "    print(f\"Hello, {name}!\")\n",
        "    print(f\"Enjoy being a {gender}\")\n",
        "    #print(f\"Date : {new_date} , Month: {new_month}\")\n",
        "    \n",
        "    if new_month >=1 and 20 <= new_date <= 31 or new_month <=2 and 1 <= new_date <= 18:\n",
        "      print(\"Your Zodiac Sign is Aquarius\")\n",
        "      print('''This month may bring a lot of happiness for you. \n",
        "      \\nYou may reach new heights of success during this month.\n",
        "      \\nYou may get many monetary benefits and opportunities.\n",
        "      ''')\n",
        "    elif new_month >=2 and 19 <= new_date <= 28 or new_month <=3 and 1 <= new_date <= 20:\n",
        "      print(\"Your Zodiac Sign is Pisces\")\n",
        "      print('''This month may provide you with mixed results for your mental and physical health. \n",
        "      \\nDuring the second, fourth, and the fifth weeks of this month, your health may support you.\n",
        "      ''')\n",
        "    elif new_month >=3 and 21 <= new_date <= 31 or new_month <=4 and 1 <= new_date <= 19:\n",
        "      print(\"Your Zodiac Sign is Aries\")\n",
        "      print('''This month may prove great for your love and relationship.\n",
        "      \\nThere are chances of some health issues during this month.\n",
        "      \\nFor your financial wellness, this month would be amazing, and you may be able to invest your money as per your plan.\n",
        "      ''')\n",
        "    elif new_month >=4 and 20 <= new_date <= 30 or new_month <=5 and 1 <= new_date <= 20:\n",
        "      print(\"Your Zodiac Sign is Taurus\")\n",
        "      print('''The month of May would positive for your health, though there are chances of seasonal diseases during the first two weeks. \n",
        "      \\nAfter the first half, your health may support you fully.\n",
        "      ''')\n",
        "    elif new_month >=5 and 21 <= new_date <= 31 or new_month <=6 and 1 <= new_date <= 20:\n",
        "      print(\"Your Zodiac Sign is Gemini\")\n",
        "      print('''Overall, this month would be really great for you. \n",
        "      \\nYou may create new opportunities and would be able to plan how to utilize it for getting benefits. \n",
        "      \\nFor your love and relationship, this month may give your mixed results\n",
        "      ''')\n",
        "    elif new_month >=6 and 21 <= new_date <= 30 or new_month <=7 and 1 <= new_date <= 22:\n",
        "      print(\"Your Zodiac Sign is Cancer\")\n",
        "      print('''This month may provide you with mixed results. \n",
        "      \\nThe first half of this month may prove positive for your love and relationship, whereas the second half may cause stress. \n",
        "      \\nThe month of May would prove amazing for your career and business.\n",
        "      ''')\n",
        "    elif new_month >=7 and 23 <= new_date <= 31 or new_month <=8 and 1 <= new_date <= 22:\n",
        "      print(\"Your Zodiac Sign is Leo\")\n",
        "      print('''The first twenty-one days of this month may prove amazing for your mental and physical health. \n",
        "      \\nDuring the later days, you may get health issues related to kidney, legs, thighs, etc.\n",
        "      ''')\n",
        "    elif new_month >=8 and 23 <= new_date <= 31 or new_month <=9 and 1 <= new_date <= 22:\n",
        "      print(\"Your Zodiac Sign is Virgo\")\n",
        "      print('''During the first week of this month and around the 21st of May, you may require taking additional care of your health. \n",
        "      \\nYou may face issues of insomnia and there are also chances of injuries during this period.\n",
        "      ''')\n",
        "    elif new_month >=9 and 23 <= new_date <= 30 or new_month <=10 and 1 <= new_date <= 22:\n",
        "      print(\"Your Zodiac Sign is Libra\")\n",
        "      print('''The month of May would prove like a rollercoaster ride for you. \n",
        "      \\nYou may feel like initiating something new and adventurous, but you would have to be cautious during this period.\n",
        "      ''')\n",
        "    elif new_month >=10 and 23 <= new_date <= 31 or new_month <=11 and 1 <= new_date <= 21:\n",
        "      print(\"Your Zodiac Sign is Scorpio\")\n",
        "      print('''This month may prove an average for your health related matters. \n",
        "      \\nThere are chances of accidents around 21st May, thus you may have to be really careful during this time.\n",
        "      ''')\n",
        "    elif new_month >=11 and 22 <= new_date <= 30 or new_month <=12 and 1 <= new_date <= 21:\n",
        "      print(\"Your Zodiac Sign is Sagittarius\")\n",
        "      print('''The month of May would provide you with mixed benefits. \n",
        "      \\nYou may get great results in some fields of your life. \n",
        "      \\nMatters related to your children, love and relationship, married life, and education may fall in your favor.\n",
        "      ''')\n",
        "    elif new_month ==12 and 22 <= new_date <= 31 or new_month ==1 and 1 <= new_date <= 19:\n",
        "      print(\"Your Zodiac Sign is Capricorn\")\n",
        "      print('''This month may prove amazing for your mental and physical health. \n",
        "      \\nDuring the first, third, and fifth weeks of this month, your health would support you. \n",
        "      \\nYour self-esteem and willpower may increase.\n",
        "      ''')\n",
        "      \n",
        "      \n",
        "patrika = rashifal()\n",
        "patrika.generateRashifal(name, gender, dob)\n",
        "  "
      ],
      "execution_count": 0,
      "outputs": [
        {
          "output_type": "stream",
          "text": [
            "Enter your name: Dipesh\n",
            "Enter date of brth in format DDMMYYYY: 05011993\n",
            "Enter Your gender: Male\n",
            "Hello, Dipesh!\n",
            "Enjoy being a Male\n",
            "Your Zodiac Sign is Aquarius\n",
            "This month may bring a lot of happiness for you. \n",
            "      \n",
            "You may reach new heights of success during this month.\n",
            "      \n",
            "You may get many monetary benefits and opportunities.\n",
            "      \n",
            "Your financial condition may improve.\n",
            "      \n",
            "You would adopt a luxurious lifestyle and plan to go on a trip with your family.\n",
            "      \n",
            "You may get success in creating new sources of income.\n",
            "      \n"
          ],
          "name": "stdout"
        }
      ]
    },
    {
      "cell_type": "markdown",
      "metadata": {
        "id": "vrHIib9SUB2s",
        "colab_type": "text"
      },
      "source": [
        "**2. Abstraction**\n",
        "        \n",
        "        1. Abstraction is one of the key concepts of object-oriented programming (OOP) languages. \n",
        "        2. Its main goal is to handle complexity by hiding unnecessary details from the user. \n",
        "        3. That enables the user to implement more complex logic on top of the provided abstraction without understanding or even thinking about all the hidden complexity.\n",
        "        4. Example: Coffee Machine. A user interact with a simple interface of buttons to grind coffee beans, mix with water, heat it up and get the type of coffee he/she wants. That doesn’t require any knowledge about the internal implementation of how coffee machine works."
      ]
    },
    {
      "cell_type": "markdown",
      "metadata": {
        "id": "_ppyDb6XjK-D",
        "colab_type": "text"
      },
      "source": [
        "**3. Encapsulation**\n",
        "\n",
        "      1. Encapsulation is used to hide the internal representation, or state, of an object from the outside. This is called information hiding. \n",
        "        2. The general idea of this mechanism is simple. If you have an attribute that is not visible from the outside of an object, and bundle it with methods that provide read or write access to it, then you can hide specific information and control access to the internal state of the object.\n",
        "        3. These methods are getter and setter methods."
      ]
    },
    {
      "cell_type": "markdown",
      "metadata": {
        "id": "gu3RmWQIja-c",
        "colab_type": "text"
      },
      "source": [
        "**4. Difference between Abstraction and Encapsulation**\n",
        "\n",
        "        1. Abstraction solves the problem at design level while Encapsulation solves it implementation level.\n",
        "        2. Abstraction is about hiding unwanted details while giving out most essential details, while Encapsulation means hiding the code and data into a single unit e.g. class or method to protect inner working of an object from outside world.\n",
        "        3. Abstraction lets you focus on what the object does instead of how it does, while Encapsulation means hiding the internal details of how an object works. When you keep internal working details private, you can change it later with a better method.\n",
        "        4. Abstraction focus on outer lookout e.g. moving of vehicle while Encapsulation focuses on internal working or inner lookout e.g. how exactly the vehicle moves."
      ]
    },
    {
      "cell_type": "markdown",
      "metadata": {
        "id": "0mQP78A7UCVi",
        "colab_type": "text"
      },
      "source": [
        "**5. Define and Explain Polymorphism**\n",
        "\n",
        "        polymorphism means having many forms. In simple words, we can define polymorphism as the ability of a message to be displayed in more than one form.\n",
        "        Real life example of polymorphism, a person at the same time can have different characteristic. Like a man at the same time is a father, a husband, an employee.\n",
        "        So the same person posses different behavior in different situations. This is called polymorphism.\n",
        "        Example: Consider a method area(). Based on parameters passed to the based area method can return area of a circle, square or rectangle.\n",
        "        polymorphism is mainly divided into two types:    \n",
        "              *   Compile time Polymorphism\n",
        "              *   Runtime Polymorphism\n"
      ]
    },
    {
      "cell_type": "markdown",
      "metadata": {
        "id": "Uo_jZM9nUCup",
        "colab_type": "text"
      },
      "source": [
        "**6. File methods in Python**\n",
        "\n",
        "        File is a named location on disk to store related information. It is used to permanently store data in a non-volatile memory (e.g. hard disk).\n",
        "        In Python, a file operation takes place in the following order.\n",
        "         - Open a file\n",
        "         - Read or write (perform operation)\n",
        "         - Close the file\n",
        "         \n",
        "**Python File Methods**\n",
        "          \n",
        "          1.file.close() - Close the file. A closed file cannot be read or written any more.\n",
        "          \n",
        "          2.file.flush() - Flush the internal buffer, like stdio's fflush. This may be a no-op on some file-like objects.\n",
        "          \n",
        "          3.file.fileno() - Returns the integer file descriptor that is used by the underlying implementation to request I/O operations from the operating system.\n",
        "          \n",
        "          4.file.isatty() - Returns True if the file is connected to a tty(-like) device, else False.\n",
        "          \n",
        "          5.file.next() - Returns the next line from the file each time it is being called.\n",
        "          \n",
        "          6.file.read([size]) - Reads at most size bytes from the file (less if the read hits EOF before obtaining size bytes).\n",
        "          \n",
        "          7.file.readline([size])- Reads one entire line from the file. A trailing newline character is kept in the string.\n",
        "          \n",
        "          8.file.readlines([sizehint]) - Reads until EOF using readline() and return a list containing the lines. If the optional sizehint argument is present, instead of reading up to EOF, whole lines totalling approximately sizehint bytes (possibly after rounding up to an internal buffer size) are read.\n",
        "          \n",
        "          9.file.seek(offset[, whence]) - Sets the file's current position\n",
        "          \n",
        "          10.file.tell() - Returns the file's current position\n",
        "          \n",
        "          11.file.truncate([size]) - Truncates the file's size. If the optional size argument is present, the file is truncated to (at most) that size.\n",
        "          \n",
        "          12.file.write(str) - Writes a string to the file. There is no return value.\n",
        "          \n",
        "          13.file.writelines(sequence) - Writes a sequence of strings to the file. The sequence can be any iterable object producing strings, typically a list of strings.\n"
      ]
    },
    {
      "cell_type": "markdown",
      "metadata": {
        "id": "YwcVogPAUC-d",
        "colab_type": "text"
      },
      "source": [
        "**7. Exception/Error handling in Python**\n",
        "\n",
        "      An exception is an event, which occurs during the execution of a program, that disrupts the normal flow of the program's instructions.\n",
        "      In general, when a Python script encounters a situation that it cannot cope with, it raises an exception. An exception is a Python object that represents an error.\n",
        "      If you have some suspicious code that may raise an exception, you can defend your program by placing the suspicious code in a try: block. After the try: block, include an except: statement, followed by a block of code which handles the problem as elegantly as possible.\n",
        "      \n",
        "\n",
        "**Syntax**\n",
        "\n",
        "try: \n",
        "    \n",
        "    You do your operations here;\n",
        "    .....................\n",
        "   \n",
        "except Exception1:\n",
        "    \n",
        "    If there is ExceptionI, then execute this block.\n",
        "\n",
        "except ExceptionII:\n",
        "      \n",
        "     If there is ExceptionII, then execute this block.\n",
        "    ......................\n",
        "\n",
        "else:\n",
        "     \n",
        "     If there is no exception then execute this block. "
      ]
    },
    {
      "cell_type": "markdown",
      "metadata": {
        "id": "30P6LPIg95b6",
        "colab_type": "text"
      },
      "source": [
        "**8. Learn Python the hard way :  Read from page 101 to 180**"
      ]
    }
  ]
}