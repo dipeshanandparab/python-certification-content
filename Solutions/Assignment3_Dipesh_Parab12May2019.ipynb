{
  "nbformat": 4,
  "nbformat_minor": 0,
  "metadata": {
    "colab": {
      "name": "Assignment3_Dipesh_Parab12May2019.ipynb",
      "version": "0.3.2",
      "provenance": [],
      "collapsed_sections": []
    },
    "kernelspec": {
      "name": "python3",
      "display_name": "Python 3"
    }
  },
  "cells": [
    {
      "cell_type": "markdown",
      "metadata": {
        "id": "AvmoI7uaTmKf",
        "colab_type": "text"
      },
      "source": [
        "**1. Take input from user: name, dob, gender. Output should be that persons rashifal**"
      ]
    },
    {
      "cell_type": "code",
      "metadata": {
        "id": "pt_kuh3UTfAV",
        "colab_type": "code",
        "colab": {}
      },
      "source": [
        ""
      ],
      "execution_count": 0,
      "outputs": []
    },
    {
      "cell_type": "markdown",
      "metadata": {
        "id": "vrHIib9SUB2s",
        "colab_type": "text"
      },
      "source": [
        "**2. Abstraction**\n",
        "        \n",
        "        1. Abstraction is one of the key concepts of object-oriented programming (OOP) languages. \n",
        "        2. Its main goal is to handle complexity by hiding unnecessary details from the user. \n",
        "        3. That enables the user to implement more complex logic on top of the provided abstraction without understanding or even thinking about all the hidden complexity.\n",
        "        4. Example: Coffee Machine. A user interact with a simple interface of buttons to grind coffee beans, mix with water, heat it up and get the type of coffee he/she wants. That doesn’t require any knowledge about the internal implementation of how coffee machine works."
      ]
    },
    {
      "cell_type": "markdown",
      "metadata": {
        "id": "_ppyDb6XjK-D",
        "colab_type": "text"
      },
      "source": [
        "**3. Encapsulation**\n",
        "\n",
        "      1. Encapsulation is used to hide the internal representation, or state, of an object from the outside. This is called information hiding. \n",
        "        2. The general idea of this mechanism is simple. If you have an attribute that is not visible from the outside of an object, and bundle it with methods that provide read or write access to it, then you can hide specific information and control access to the internal state of the object.\n",
        "        3. These methods are getter and setter methods."
      ]
    },
    {
      "cell_type": "markdown",
      "metadata": {
        "id": "gu3RmWQIja-c",
        "colab_type": "text"
      },
      "source": [
        "**4. Difference between Abstraction and Encapsulation**\n",
        "\n",
        "        1. Abstraction solves the problem at design level while Encapsulation solves it implementation level.\n",
        "        2. Abstraction is about hiding unwanted details while giving out most essential details, while Encapsulation means hiding the code and data into a single unit e.g. class or method to protect inner working of an object from outside world.\n",
        "        3. Abstraction lets you focus on what the object does instead of how it does, while Encapsulation means hiding the internal details of how an object works. When you keep internal working details private, you can change it later with a better method.\n",
        "        4. Abstraction focus on outer lookout e.g. moving of vehicle while Encapsulation focuses on internal working or inner lookout e.g. how exactly the vehicle moves."
      ]
    },
    {
      "cell_type": "markdown",
      "metadata": {
        "id": "0mQP78A7UCVi",
        "colab_type": "text"
      },
      "source": [
        "**5. Define and Explain Polymorphism**\n",
        "\n",
        "        polymorphism means having many forms. In simple words, we can define polymorphism as the ability of a message to be displayed in more than one form.\n",
        "        Real life example of polymorphism, a person at the same time can have different characteristic. Like a man at the same time is a father, a husband, an employee.\n",
        "        So the same person posses different behavior in different situations. This is called polymorphism.\n",
        "        Example: Consider a method area(). Based on parameters passed to the based area method can return area of a circle, square or rectangle.\n",
        "        polymorphism is mainly divided into two types:    \n",
        "              *   Compile time Polymorphism\n",
        "              *   Runtime Polymorphism\n"
      ]
    },
    {
      "cell_type": "markdown",
      "metadata": {
        "id": "Uo_jZM9nUCup",
        "colab_type": "text"
      },
      "source": [
        "**6. File methods in Python**\n",
        "\n",
        "        File is a named location on disk to store related information. It is used to permanently store data in a non-volatile memory (e.g. hard disk).\n",
        "        In Python, a file operation takes place in the following order.\n",
        "         - Open a file\n",
        "         - Read or write (perform operation)\n",
        "         - Close the file\n",
        "         \n",
        "**Python File Methods**\n",
        "          \n",
        "          1.file.close() - Close the file. A closed file cannot be read or written any more.\n",
        "          \n",
        "          2.file.flush() - Flush the internal buffer, like stdio's fflush. This may be a no-op on some file-like objects.\n",
        "          \n",
        "          3.file.fileno() - Returns the integer file descriptor that is used by the underlying implementation to request I/O operations from the operating system.\n",
        "          \n",
        "          4.file.isatty() - Returns True if the file is connected to a tty(-like) device, else False.\n",
        "          \n",
        "          5.file.next() - Returns the next line from the file each time it is being called.\n",
        "          \n",
        "          6.file.read([size]) - Reads at most size bytes from the file (less if the read hits EOF before obtaining size bytes).\n",
        "          \n",
        "          7.file.readline([size])- Reads one entire line from the file. A trailing newline character is kept in the string.\n",
        "          \n",
        "          8.file.readlines([sizehint]) - Reads until EOF using readline() and return a list containing the lines. If the optional sizehint argument is present, instead of reading up to EOF, whole lines totalling approximately sizehint bytes (possibly after rounding up to an internal buffer size) are read.\n",
        "          \n",
        "          9.file.seek(offset[, whence]) - Sets the file's current position\n",
        "          \n",
        "          10.file.tell() - Returns the file's current position\n",
        "          \n",
        "          11.file.truncate([size]) - Truncates the file's size. If the optional size argument is present, the file is truncated to (at most) that size.\n",
        "          \n",
        "          12.file.write(str) - Writes a string to the file. There is no return value.\n",
        "          \n",
        "          13.file.writelines(sequence) - Writes a sequence of strings to the file. The sequence can be any iterable object producing strings, typically a list of strings.\n"
      ]
    },
    {
      "cell_type": "markdown",
      "metadata": {
        "id": "YwcVogPAUC-d",
        "colab_type": "text"
      },
      "source": [
        "**7. Exception/Error handling in Python**\n",
        "\n",
        "      An exception is an event, which occurs during the execution of a program, that disrupts the normal flow of the program's instructions.\n",
        "      In general, when a Python script encounters a situation that it cannot cope with, it raises an exception. An exception is a Python object that represents an error.\n",
        "      If you have some suspicious code that may raise an exception, you can defend your program by placing the suspicious code in a try: block. After the try: block, include an except: statement, followed by a block of code which handles the problem as elegantly as possible.\n",
        "      \n",
        "\n",
        "**Syntax**\n",
        "\n",
        "try: \n",
        "    \n",
        "    You do your operations here;\n",
        "    .....................\n",
        "   \n",
        "except Exception1:\n",
        "    \n",
        "    If there is ExceptionI, then execute this block.\n",
        "\n",
        "except ExceptionII:\n",
        "      \n",
        "     If there is ExceptionII, then execute this block.\n",
        "    ......................\n",
        "\n",
        "else:\n",
        "     \n",
        "     If there is no exception then execute this block. "
      ]
    },
    {
      "cell_type": "markdown",
      "metadata": {
        "id": "Zo9SfYAgY23w",
        "colab_type": "text"
      },
      "source": [
        "**8. Explain SSH , SSH1, Message Digest, Cryptography.**"
      ]
    }
  ]
}