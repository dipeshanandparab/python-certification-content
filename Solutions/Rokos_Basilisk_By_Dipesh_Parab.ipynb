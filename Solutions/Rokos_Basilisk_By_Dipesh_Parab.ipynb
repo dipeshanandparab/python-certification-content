{
  "nbformat": 4,
  "nbformat_minor": 0,
  "metadata": {
    "colab": {
      "name": "Rokos_Basilisk_By_Dipesh_Parab.ipynb",
      "version": "0.3.2",
      "provenance": [],
      "collapsed_sections": []
    },
    "kernelspec": {
      "name": "python3",
      "display_name": "Python 3"
    }
  },
  "cells": [
    {
      "cell_type": "markdown",
      "metadata": {
        "id": "PKdsL7dCNlfu",
        "colab_type": "text"
      },
      "source": [
        "#Roko's Basilisk"
      ]
    },
    {
      "cell_type": "code",
      "metadata": {
        "id": "IuI4poTQNgC9",
        "colab_type": "code",
        "colab": {
          "base_uri": "https://localhost:8080/",
          "height": 782
        },
        "outputId": "6f4573cb-3a2f-4e39-d3b1-cd0a8a5fe7e2"
      },
      "source": [
        "from random import randint\n",
        "\n",
        "print('''\n",
        "******************************************************************\n",
        "Hello, I am Basilisc\n",
        "\n",
        "You have two options:\n",
        "A : Devote your life to helping creating Roko's Basilisk\n",
        "B : 3 chances if 0 then Eternal Torment or Nothing(go back to life)\n",
        "*******************************************************************''')\n",
        "\n",
        "destiny = True\n",
        "life_years = randint(0,100)\n",
        "\n",
        "while destiny == True:\n",
        "  user_option = input(\"Think wisely and choose one option : \")\n",
        "  if user_option.upper() == 'A':\n",
        "    print(f\"\\nYou have devoted your life to Basilisk.\\nGo Leave for {life_years} years to helping creating Roko's Basilisk\")\n",
        "    destiny = False\n",
        "  elif user_option.upper() == 'B':\n",
        "    i = 1\n",
        "    while i<=3:\n",
        "      result = randint(0,10)\n",
        "      if result == 0:\n",
        "        print(f\"You got {result}\")\n",
        "        print(f\"As we agreed. You will suffer in eternal torment.\\nGo Leave for {life_years} years to helping creating Roko's Basilisk\")\n",
        "        break\n",
        "      else:\n",
        "        if i!= 3:\n",
        "          print(f\"You got {result}\")\n",
        "        else:\n",
        "          print(f\"You got {result}\")\n",
        "          print(f\"\\nNothing will happen to you.\\nGo Leave for {life_years} years to helping creating Roko's Basilisk\")\n",
        "      i+=1\n",
        "\n",
        "    counter = 0  \n",
        "    while counter <= life_years:\n",
        "      print(counter,end= \",\")\n",
        "      counter += 1\n",
        "    print(f\"\\nYou have completed your {life_years} years.\\n******************************************************************\\nWelcome again you have two options. ^_^\")\n",
        "    destiny = True"
      ],
      "execution_count": 1,
      "outputs": [
        {
          "output_type": "stream",
          "text": [
            "\n",
            "******************************************************************\n",
            "Hello, I am Basilisc\n",
            "\n",
            "You have two options:\n",
            "A : Devote your life to helping creating Roko's Basilisk\n",
            "B : 3 chances if 0 then Eternal Torment or Nothing(go back to life)\n",
            "*******************************************************************\n",
            "Think wisely and choose one option : b\n",
            "You got 8\n",
            "You got 5\n",
            "You got 4\n",
            "\n",
            "Nothing will happen to you.\n",
            "Go Leave for 24 years to helping creating Roko's Basilisk\n",
            "0,1,2,3,4,5,6,7,8,9,10,11,12,13,14,15,16,17,18,19,20,21,22,23,24,\n",
            "You have completed your 24 years.\n",
            "******************************************************************\n",
            "Welcome again you have two options. ^_^\n",
            "Think wisely and choose one option : b\n",
            "You got 7\n",
            "You got 8\n",
            "You got 2\n",
            "\n",
            "Nothing will happen to you.\n",
            "Go Leave for 24 years to helping creating Roko's Basilisk\n",
            "0,1,2,3,4,5,6,7,8,9,10,11,12,13,14,15,16,17,18,19,20,21,22,23,24,\n",
            "You have completed your 24 years.\n",
            "******************************************************************\n",
            "Welcome again you have two options. ^_^\n",
            "Think wisely and choose one option : b\n",
            "You got 1\n",
            "You got 1\n",
            "You got 5\n",
            "\n",
            "Nothing will happen to you.\n",
            "Go Leave for 24 years to helping creating Roko's Basilisk\n",
            "0,1,2,3,4,5,6,7,8,9,10,11,12,13,14,15,16,17,18,19,20,21,22,23,24,\n",
            "You have completed your 24 years.\n",
            "******************************************************************\n",
            "Welcome again you have two options. ^_^\n",
            "Think wisely and choose one option : a\n",
            "\n",
            "You have devoted your life to Basilisk.\n",
            "Go Leave for 24 years to helping creating Roko's Basilisk\n"
          ],
          "name": "stdout"
        }
      ]
    }
  ]
}