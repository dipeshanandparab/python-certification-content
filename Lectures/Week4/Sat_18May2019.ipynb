{
  "nbformat": 4,
  "nbformat_minor": 0,
  "metadata": {
    "colab": {
      "name": "Python_Day7_18May2019.ipynb",
      "version": "0.3.2",
      "provenance": [],
      "collapsed_sections": []
    },
    "kernelspec": {
      "name": "python3",
      "display_name": "Python 3"
    },
    "accelerator": "GPU"
  },
  "cells": [
    {
      "cell_type": "code",
      "metadata": {
        "id": "fqkuovgBUiUq",
        "colab_type": "code",
        "outputId": "2488d8c4-3d99-4923-9c20-90c091306ebb",
        "colab": {
          "base_uri": "https://localhost:8080/",
          "height": 68
        }
      },
      "source": [
        "#split function\n",
        "x = input(\"Enter Names sepated by space: \")\n",
        "\n",
        "y = x.split(\" \")\n",
        "\n",
        "print(f\"List = {y}\")\n",
        "\n",
        "print(type(y))"
      ],
      "execution_count": 0,
      "outputs": [
        {
          "output_type": "stream",
          "text": [
            "Enter Names sepated by space: Dipesh Vedant Nitin\n",
            "List = ['Dipesh', 'Vedant', 'Nitin']\n",
            "<class 'list'>\n"
          ],
          "name": "stdout"
        }
      ]
    },
    {
      "cell_type": "code",
      "metadata": {
        "id": "rRhKDgUobziF",
        "colab_type": "code",
        "outputId": "9abe1b4c-30af-4352-91e2-fbcd7d6c3083",
        "colab": {
          "base_uri": "https://localhost:8080/",
          "height": 34
        }
      },
      "source": [
        "#nested Lists\n",
        "\n",
        "list=[[1,2,3,4],\"Dipesh\",5,\"Anand\",['Yashwant','Parab']]\n",
        "\n",
        "name = list[4][0]\n",
        "\n",
        "print(name)"
      ],
      "execution_count": 0,
      "outputs": [
        {
          "output_type": "stream",
          "text": [
            "Yashwant\n"
          ],
          "name": "stdout"
        }
      ]
    },
    {
      "cell_type": "code",
      "metadata": {
        "id": "Rq73thBsddOE",
        "colab_type": "code",
        "colab": {}
      },
      "source": [
        "x = [[0,1,2,3,4,\"Ved\",[0,1,2]], [1,2,[\"Ved\",\"Shu\",\"Prat\",\"Jov\"],5,7.0],[1,2,3,4,5,6,7,8,9,10],[\"RAM\",[1,0,[0,1,2],4]]]\n",
        "y = x[2]\n",
        "\n",
        "for i in y:\n",
        "  if i < 2:\n",
        "    z = x[3][i]\n",
        "    for i in z[2]:\n",
        "      print(i)\n",
        "      list.append(i)\n",
        "      print(list)\n",
        "\n",
        "\n",
        "# a = [1,2.3,45,'Dipesh','Parab']\n",
        "\n",
        "# list_2 = [i for i in a if isinstance(i, (int, float))] \n",
        "# print(list_2)\n",
        "    "
      ],
      "execution_count": 0,
      "outputs": []
    },
    {
      "cell_type": "code",
      "metadata": {
        "id": "UwbiADV3x85S",
        "colab_type": "code",
        "colab": {}
      },
      "source": [
        "#Introduction to Dictionaries\n",
        "x = {\"Ram\":1, \"Laxman\":2}\n",
        "\n",
        "print(len(x))\n",
        "print(type(x))\n",
        "\n",
        "print(x[\"Ram\"])"
      ],
      "execution_count": 0,
      "outputs": []
    },
    {
      "cell_type": "code",
      "metadata": {
        "id": "UpLtsnkt2VZ7",
        "colab_type": "code",
        "outputId": "6720d205-fb26-427b-91e1-b583ecd673db",
        "colab": {
          "base_uri": "https://localhost:8080/",
          "height": 34
        }
      },
      "source": [
        "x = {\"Dipesh\":[{\"Emp_Code\":\"NQ00217\",\"Dob\":\"05081993\",\"Gender\":\"Male\"}]}\n",
        "\n",
        "print(x[\"Dipesh\"][0][\"Gender\"])"
      ],
      "execution_count": 0,
      "outputs": [
        {
          "output_type": "stream",
          "text": [
            "Male\n"
          ],
          "name": "stdout"
        }
      ]
    },
    {
      "cell_type": "code",
      "metadata": {
        "id": "65611azOBpwl",
        "colab_type": "code",
        "outputId": "e7976b64-d630-4eeb-98d0-246b61f350ae",
        "colab": {
          "base_uri": "https://localhost:8080/",
          "height": 54
        }
      },
      "source": [
        "#Adding key value pair to dictionary\n",
        "colors = {\"Vedant\":\"Pink\",\"Jovin\":\"Sky blue\",\"Nitin\":\"Navy blue\",\"Ishika\":\"Purple\",\"Komal\":\"Navy blue\",\"Dipesh\":\"Oxford Blue\"}\n",
        "\n",
        "colors[\"Pratiksha\"] = \"Red\"\n",
        "colors[\"Mayur\"] = \"Pink\"\n",
        "\n",
        "print(colors)"
      ],
      "execution_count": 0,
      "outputs": [
        {
          "output_type": "stream",
          "text": [
            "{'Vedant': 'Pink', 'Jovin': 'Sky blue', 'Nitin': 'Navy blue', 'Ishika': 'Purple', 'Komal': 'Navy blue', 'Dipesh': 'Oxford Blue', 'Pratiksha': 'Red', 'Mayur': 'Pink'}\n"
          ],
          "name": "stdout"
        }
      ]
    },
    {
      "cell_type": "code",
      "metadata": {
        "id": "K8WQscwA71kk",
        "colab_type": "code",
        "outputId": "aedc0d4e-aadf-4735-e91b-7e20d07ded70",
        "colab": {
          "base_uri": "https://localhost:8080/",
          "height": 241
        }
      },
      "source": [
        "# Update dictionary using method\n",
        "# Use del to delete dictionary elements\n",
        "print(\"-\"*100)\n",
        "print(\"Original Dictionary\")\n",
        "print(x)\n",
        "print(\"-\"*100)\n",
        "\n",
        "def addPerson():\n",
        "  name = input(\"Enter name: \")\n",
        "  empcode = input(\"Enter Emp Code: \")\n",
        "  dob = input(\"Enter Date of Birth: \")\n",
        "  gender = input(\"Enter Gender: \")\n",
        "  \n",
        "  x[name] = [{\"Emp_Code\":empcode,\"Dob\":dob,\"Gender\":gender}]\n",
        "\n",
        "addPerson()\n",
        "del x[\"Ravan\"]\n",
        "\n",
        "print(\"-\"*100)\n",
        "print(\"Updated Dictionary\")\n",
        "print(x)\n",
        "print(\"-\"*100)"
      ],
      "execution_count": 0,
      "outputs": [
        {
          "output_type": "stream",
          "text": [
            "----------------------------------------------------------------------------------------------------\n",
            "Original Dictionary\n",
            "{'Ram': [{'Emp_Code': 'NQ0001', 'Dob': '05081993', 'Gender': 'Male'}], 'Laxman': [{'Emp_Code': 'NQ00220', 'Dob': '12101989', 'Gender': 'Male'}], 'Charan': [{'Emp_Code': 'NQ00210', 'Dob': '15031992', 'Gender': 'Female'}], 'Ravan': [{'Emp_Code': 'NQ00215', 'Dob': '11031980', 'Gender': 'Male'}], 'Sita': [{'Emp_Code': 'NQ0002', 'Dob': '09111995', 'Gender': 'Female'}], 'Bharat': [{'Emp_Code': 'NQ0008', 'Dob': '19121998', 'Gender': 'Male'}]}\n",
            "----------------------------------------------------------------------------------------------------\n",
            "Enter name: Dipesh\n",
            "Enter Emp Code: NQ0100\n",
            "Enter Date of Birth: 05081993\n",
            "Enter Gender: Male\n",
            "----------------------------------------------------------------------------------------------------\n",
            "Updated Dictionary\n",
            "{'Ram': [{'Emp_Code': 'NQ0001', 'Dob': '05081993', 'Gender': 'Male'}], 'Laxman': [{'Emp_Code': 'NQ00220', 'Dob': '12101989', 'Gender': 'Male'}], 'Charan': [{'Emp_Code': 'NQ00210', 'Dob': '15031992', 'Gender': 'Female'}], 'Sita': [{'Emp_Code': 'NQ0002', 'Dob': '09111995', 'Gender': 'Female'}], 'Bharat': [{'Emp_Code': 'NQ0008', 'Dob': '19121998', 'Gender': 'Male'}], 'Dipesh': [{'Emp_Code': 'NQ0100', 'Dob': '05081993', 'Gender': 'Male'}]}\n",
            "----------------------------------------------------------------------------------------------------\n"
          ],
          "name": "stdout"
        }
      ]
    },
    {
      "cell_type": "code",
      "metadata": {
        "id": "0D3PznD-IfmG",
        "colab_type": "code",
        "outputId": "59eceb46-f971-414d-eb94-26da84d6509e",
        "colab": {
          "base_uri": "https://localhost:8080/",
          "height": 71
        }
      },
      "source": [
        "#Add CSV to dictionary\n",
        "values = [['Ram','NQ001','05081993','Male'],['Seeta','NQ002','05081993','Female'],['Laxman','NQ003','05081993','Male'],['Ravan','NQ004','05081993','Male']]\n",
        "x = {}\n",
        "\n",
        "for i in values:\n",
        "    x[i[0]] = [{\"empid\":i[0],\"dob\":i[1],\"gender\":i[2]}]\n",
        "print(x)\n",
        "\n",
        "print(type(x))"
      ],
      "execution_count": 3,
      "outputs": [
        {
          "output_type": "stream",
          "text": [
            "{'Ram': [{'empid': 'Ram', 'dob': 'NQ001', 'gender': '05081993'}], 'Seeta': [{'empid': 'Seeta', 'dob': 'NQ002', 'gender': '05081993'}], 'Laxman': [{'empid': 'Laxman', 'dob': 'NQ003', 'gender': '05081993'}], 'Ravan': [{'empid': 'Ravan', 'dob': 'NQ004', 'gender': '05081993'}]}\n",
            "<class 'dict'>\n"
          ],
          "name": "stdout"
        }
      ]
    },
    {
      "cell_type": "markdown",
      "metadata": {
        "id": "PPaZq9UZs5B2",
        "colab_type": "text"
      },
      "source": [
        "#Code for Assignment (Complete the work in team)\n",
        "Name\n",
        "System Preference: Communalism, Capitalism, Maxism, Democracy, AI Gov\n",
        "Religious Preference:  \n",
        "Gender:\n",
        "\n",
        "Principals of each preference\n",
        "Principals of each religion\n",
        "\n",
        "For more informaion:\n",
        "Mail us at xxx@xx.com\n",
        "Contact us at 91-9087 XXX XXX\n",
        "\n"
      ]
    },
    {
      "cell_type": "markdown",
      "metadata": {
        "id": "RrO3-att4UR9",
        "colab_type": "text"
      },
      "source": [
        "Game to guess the number\n",
        "User Input: 3 chances\n",
        "\n",
        "if user is close to the value then prompt the user\n",
        "as\n",
        "if value is greter in range by 30 then prompt to lower the value and vice versa"
      ]
    }
  ]
}