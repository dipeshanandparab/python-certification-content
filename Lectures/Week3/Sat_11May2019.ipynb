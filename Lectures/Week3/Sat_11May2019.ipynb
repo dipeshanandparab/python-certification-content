{
  "nbformat": 4,
  "nbformat_minor": 0,
  "metadata": {
    "colab": {
      "name": "Python_Day5_11May2019.ipynb",
      "version": "0.3.2",
      "provenance": [],
      "collapsed_sections": []
    },
    "kernelspec": {
      "name": "python3",
      "display_name": "Python 3"
    },
    "accelerator": "GPU"
  },
  "cells": [
    {
      "cell_type": "code",
      "metadata": {
        "id": "jFNJT6G-O-vc",
        "colab_type": "code",
        "colab": {}
      },
      "source": [
        "#name = input(\"Enter Name: \")\n",
        "DOB = input(\"Please Enter DOB in DDMMYYYY Format: \")\n",
        "#month = int(input(\"Please Enter Month: \"))\n",
        "\n",
        "year = int(DOB[4:8])\n",
        "month = int(DOB[2:4])\n",
        "\n",
        "if year % 4 == 0:\n",
        "  if month % 2 == 0 and month != 2:\n",
        "    for i in range(1,31):\n",
        "      print(i,end=\" \")\n",
        "  elif month % 2 == 0 and month == 2:\n",
        "    for i in range(1,30):\n",
        "      print(i,end=\" \")\n",
        "  else:\n",
        "    for i in range(1,32):\n",
        "      print(i,end=\" \")\n",
        "    \n",
        "\n",
        "\n",
        "\n",
        "for i in range(1,32):\n",
        "    print(i,end=\" \")\n",
        "\n",
        "\n",
        "\"\"\"\n",
        "Hi John \n",
        "\n",
        "You ar x years old\n",
        "\n",
        "days in birth month\n",
        "\n",
        "month of interest\n",
        "\n",
        "days in month interest = List of 1-31\n",
        "\"\"\"\n"
      ],
      "execution_count": 0,
      "outputs": []
    },
    {
      "cell_type": "markdown",
      "metadata": {
        "id": "kDr7v3wLgk_g",
        "colab_type": "text"
      },
      "source": [
        "# **Introduction to Functions**"
      ]
    },
    {
      "cell_type": "code",
      "metadata": {
        "id": "lCcTZ-uqbV2F",
        "colab_type": "code",
        "outputId": "945e1fd9-042e-4460-e1ce-a5baedbf9628",
        "colab": {
          "base_uri": "https://localhost:8080/",
          "height": 34
        }
      },
      "source": [
        "#Introduction to functions\n",
        "def sum(a,b):\n",
        "  c=a+b\n",
        "  return c\n",
        "\n",
        "result = sum(5,6)\n",
        "\n",
        "print(result)"
      ],
      "execution_count": 0,
      "outputs": [
        {
          "output_type": "stream",
          "text": [
            "11\n"
          ],
          "name": "stdout"
        }
      ]
    },
    {
      "cell_type": "code",
      "metadata": {
        "id": "KsWktO8_d3f-",
        "colab_type": "code",
        "outputId": "0670b4eb-24e0-4763-9959-32a447baee0e",
        "colab": {
          "base_uri": "https://localhost:8080/",
          "height": 85
        }
      },
      "source": [
        "def sum(a,b):\n",
        "  c=a+b\n",
        "  print(f\"Addition of {a} and {b} is {c}\")\n",
        "\n",
        "def sub(a,b):\n",
        "  c=a-b\n",
        "  print(f\"Subtraction of {a} and {b} is {c}\")\n",
        "\n",
        "def mult(a,b):\n",
        "  c=a*b\n",
        "  print(f\"Multiplication of {a} and {b} is {c}\")\n",
        "\n",
        "def div(a,b):\n",
        "  c=a/b\n",
        "  print(f\"Division of {a} and {b} is {c}\")\n",
        "\n",
        "sum(5,8)\n",
        "sub(5,8)\n",
        "mult(5,8)\n",
        "div(5,8)"
      ],
      "execution_count": 0,
      "outputs": [
        {
          "output_type": "stream",
          "text": [
            "Addition of 5 and 8 is 13\n",
            "Subtraction of 5 and 8 is -3\n",
            "Multiplication of 5 and 8 is 40\n",
            "Division of 5 and 8 is 0.625\n"
          ],
          "name": "stdout"
        }
      ]
    },
    {
      "cell_type": "code",
      "metadata": {
        "id": "FpAx9c-XjO1f",
        "colab_type": "code",
        "outputId": "bf2aeb14-10e1-45c0-9446-bd0fca60e5d2",
        "colab": {
          "base_uri": "https://localhost:8080/",
          "height": 51
        }
      },
      "source": [
        "x= \"dipesh parab\"\n",
        "y= x.title()\n",
        "z= x.find('d')\n",
        "print(y)\n",
        "print(z)"
      ],
      "execution_count": 0,
      "outputs": [
        {
          "output_type": "stream",
          "text": [
            "Dipesh Parab\n",
            "0\n"
          ],
          "name": "stdout"
        }
      ]
    },
    {
      "cell_type": "code",
      "metadata": {
        "id": "L1ZbW065kx5d",
        "colab_type": "code",
        "outputId": "5ffbbde6-2142-4cda-cd73-3688fa76e9ad",
        "colab": {
          "base_uri": "https://localhost:8080/",
          "height": 34
        }
      },
      "source": [
        "month = input(\"Enter Month: \")\n",
        "\n",
        "def month_day():\n",
        "  months_of_31_days = ['J','M','A','O','D']\n",
        "  months_of_30_days = ['AP','JU','SE','NO']\n",
        "\n",
        "#   for i in months_of_31_days:\n",
        "#     if i in month[0:1]:\n",
        "#       print(f\"Your selected month {month} has 31 days\")\n",
        "#       break\n",
        "#     for j in months_of_30_days:\n",
        "#       if j in month[0:2]:\n",
        "#         print(\"30\")\n",
        "#         break\n",
        "\n",
        "  for j in months_of_30_days:\n",
        "    if j in month[0:2]:\n",
        "        print(f\"Your selected month {month} has 30 days\")\n",
        "    else:\n",
        "      for i in months_of_31_days:\n",
        "        if i in month[0:1]:\n",
        "          print(f\"Your selected month {month} has 31 days\")   \n",
        "        break\n",
        "      \n",
        "month_day()\n",
        "  "
      ],
      "execution_count": 0,
      "outputs": [
        {
          "output_type": "stream",
          "text": [
            "Enter Month: O\n"
          ],
          "name": "stdout"
        }
      ]
    },
    {
      "cell_type": "code",
      "metadata": {
        "id": "CXUcWiDluswI",
        "colab_type": "code",
        "outputId": "973f491a-f9d0-4787-a1d3-3e25cd1984cc",
        "colab": {
          "base_uri": "https://localhost:8080/",
          "height": 51
        }
      },
      "source": [
        "month = input(\"Enter Month: \")\n",
        "\n",
        "def month_day():\n",
        "  if month==\"January\" or month==\"March\" or month==\"May\" or month==\"July\" or month==\"August\" or month==\"October\" or month==\"December\":\n",
        "    print(f\"Your selected month {month} has 31 days\")\n",
        "  elif month==\"April\" or month==\"June\" or month==\"september\" or month==\"November\":\n",
        "    print(f\"Your selected month {month} has 30 days\")\n",
        "  elif month==\"February\":\n",
        "    print(f\"Your selected month {month} has 29 days\")\n",
        "    \n",
        "month_day()"
      ],
      "execution_count": 0,
      "outputs": [
        {
          "output_type": "stream",
          "text": [
            "Enter Month: February\n",
            "Your selected month February has 29 days\n"
          ],
          "name": "stdout"
        }
      ]
    },
    {
      "cell_type": "code",
      "metadata": {
        "id": "LTPsd3ITxG0D",
        "colab_type": "code",
        "outputId": "59e3bb24-a130-4829-aa4d-7373af7ca628",
        "colab": {
          "base_uri": "https://localhost:8080/",
          "height": 34
        }
      },
      "source": [
        "List = [0,1,2,3,4,5,6,7,8,9,10]\n",
        "\n",
        "def check(List):\n",
        "  for x in List:\n",
        "    print(x,end=\" \")\n",
        "    \n",
        "check(List)"
      ],
      "execution_count": 0,
      "outputs": [
        {
          "output_type": "stream",
          "text": [
            "0 1 2 3 4 5 6 7 8 9 10 "
          ],
          "name": "stdout"
        }
      ]
    }
  ]
}