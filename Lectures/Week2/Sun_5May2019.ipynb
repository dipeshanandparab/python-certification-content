{
  "nbformat": 4,
  "nbformat_minor": 0,
  "metadata": {
    "colab": {
      "name": "Python_Day4_5May2019.ipynb",
      "version": "0.3.2",
      "provenance": [],
      "collapsed_sections": []
    },
    "kernelspec": {
      "name": "python3",
      "display_name": "Python 3"
    },
    "accelerator": "GPU"
  },
  "cells": [
    {
      "cell_type": "code",
      "metadata": {
        "id": "km2tgImBLCfM",
        "colab_type": "code",
        "outputId": "48a32384-4733-4300-b950-5e215abf896d",
        "colab": {
          "base_uri": "https://localhost:8080/",
          "height": 85
        }
      },
      "source": [
        "#To get nickname\n",
        "\n",
        "x= input(\"Enter Your Name: \")\n",
        "y= input(\"Enter Your Prefix amoung 'z','u','s','l','o': \")\n",
        "z = int(input(\"Enter Number of Chatacters for nicname: \"))\n",
        "\n",
        "nickname = x[0:z] + y\n",
        "print(f\"Congrats, Your Nickname is {nickname}\")"
      ],
      "execution_count": 0,
      "outputs": [
        {
          "output_type": "stream",
          "text": [
            "Enter Your Name: Dipesh\n",
            "Enter Your Prefix amoung 'z','u','s','l','o': u\n",
            "Enter Number of Chatacters for nicname: 3\n",
            "Congrats, Your Nickname is Dipu\n"
          ],
          "name": "stdout"
        }
      ]
    },
    {
      "cell_type": "code",
      "metadata": {
        "id": "lw8SNjTMNuRF",
        "colab_type": "code",
        "outputId": "adeba3d7-8845-4ca7-c162-27d50019c5ee",
        "colab": {
          "base_uri": "https://localhost:8080/",
          "height": 51
        }
      },
      "source": [
        "names = ['Dipesh','Vedant','Ram','Sita']\n",
        "\n",
        "user_number = int(input(\"Enter number between 1 to 4: \"))\n",
        "\n",
        "print(names[user_number-1])"
      ],
      "execution_count": 0,
      "outputs": [
        {
          "output_type": "stream",
          "text": [
            "Enter number between 1 to 4: 2\n",
            "Vedant\n"
          ],
          "name": "stdout"
        }
      ]
    },
    {
      "cell_type": "code",
      "metadata": {
        "id": "RTge6Nt8Uc0t",
        "colab_type": "code",
        "outputId": "a8c7402c-2ff1-4bd2-e796-5b0631438b16",
        "colab": {
          "base_uri": "https://localhost:8080/",
          "height": 85
        }
      },
      "source": [
        "List = ['Dipesh','Vedant','Shubham','Nitin','Ishika','Pratiksha','Jovin']\n",
        "number = int(input(\"Enter number: \"))\n",
        "name= List[number-1]\n",
        "y= input(\"Enter Your Prefix amoung 'z','u','s','l','o': \")\n",
        "z = int(input(\"Enter Number of Chatacters for nicname: \"))\n",
        "\n",
        "nickname = name[0:z] + y\n",
        "print(f\"Congrats, Your Nickname is {nickname}\")\n"
      ],
      "execution_count": 0,
      "outputs": [
        {
          "output_type": "stream",
          "text": [
            "Enter number: 1\n",
            "Enter Your Prefix amoung 'z','u','s','l','o': u\n",
            "Enter Number of Chatacters for nicname: 3\n",
            "Congrats, Your Nickname is Dipu\n"
          ],
          "name": "stdout"
        }
      ]
    },
    {
      "cell_type": "code",
      "metadata": {
        "id": "FuuVRhWWW22U",
        "colab_type": "code",
        "outputId": "8277a2a6-e280-4b69-9f9c-ee2ecad99040",
        "colab": {
          "base_uri": "https://localhost:8080/",
          "height": 170
        }
      },
      "source": [
        "List = ['Dipesh','Vedant','Shubham','Nitin','Ishika','Pratiksha','Jovin']\n",
        "\n",
        "y= input(\"Enter Your Prefix amoung 'z','u','s','l','o': \")\n",
        "z = int(input(\"Enter Number of Chatacters for nicname: \"))\n",
        "\n",
        "for i in List:\n",
        "  print(i[0:z] + y)"
      ],
      "execution_count": 0,
      "outputs": [
        {
          "output_type": "stream",
          "text": [
            "Enter Your Prefix amoung 'z','u','s','l','o': u\n",
            "Enter Number of Chatacters for nicname: 3\n",
            "Dipu\n",
            "Vedu\n",
            "Shuu\n",
            "Nitu\n",
            "Ishu\n",
            "Prau\n",
            "Jovu\n"
          ],
          "name": "stdout"
        }
      ]
    },
    {
      "cell_type": "code",
      "metadata": {
        "id": "UZonkjNobOXS",
        "colab_type": "code",
        "outputId": "58cf53f8-5072-4403-8e43-13a77e0f3d17",
        "colab": {
          "base_uri": "https://localhost:8080/",
          "height": 221
        }
      },
      "source": [
        "Batch = ['Dipesh','Vedant','Shubham','Nitin','Ishika','Pratiksha','Jovin']\n",
        "x = ['Sita']\n",
        "\n",
        "Batch += x\n",
        "Batch.append('Geeta')\n",
        "\n",
        "print(len(Batch))\n",
        "\n",
        "y= input(\"Enter Your Prefix amoung 'z','u','s','l','o': \")\n",
        "z = int(input(\"Enter Number of Chatacters for nicname: \"))\n",
        "\n",
        "for i in Batch:\n",
        "  print(i[0:z] + y)"
      ],
      "execution_count": 0,
      "outputs": [
        {
          "output_type": "stream",
          "text": [
            "9\n",
            "Enter Your Prefix amoung 'z','u','s','l','o': u\n",
            "Enter Number of Chatacters for nicname: 3\n",
            "Dipu\n",
            "Vedu\n",
            "Shuu\n",
            "Nitu\n",
            "Ishu\n",
            "Prau\n",
            "Jovu\n",
            "Situ\n",
            "Geeu\n"
          ],
          "name": "stdout"
        }
      ]
    },
    {
      "cell_type": "code",
      "metadata": {
        "id": "WwtLwRWOfUMv",
        "colab_type": "code",
        "outputId": "cb4a7d1e-6270-456b-cea2-4d79b1edef6a",
        "colab": {
          "base_uri": "https://localhost:8080/",
          "height": 51
        }
      },
      "source": [
        "Batch = ['Dipesh','Vedant','Shubham','Nitin','Ishika','Pratiksha','Jovin']\n",
        "Batch[3]='Shubham'\n",
        "Batch[2]='Nitin'\n",
        "print(Batch)\n",
        "\n",
        "Batch.insert(2,'ABCD')\n",
        "print(Batch)"
      ],
      "execution_count": 0,
      "outputs": [
        {
          "output_type": "stream",
          "text": [
            "['Dipesh', 'Vedant', 'Nitin', 'Shubham', 'Ishika', 'Pratiksha', 'Jovin']\n",
            "['Dipesh', 'Vedant', 'ABCD', 'Nitin', 'Shubham', 'Ishika', 'Pratiksha', 'Jovin']\n"
          ],
          "name": "stdout"
        }
      ]
    },
    {
      "cell_type": "code",
      "metadata": {
        "id": "gkxRbfwWjyuJ",
        "colab_type": "code",
        "outputId": "314051dc-dc0d-4abe-928e-9ffe8cc3e37d",
        "colab": {
          "base_uri": "https://localhost:8080/",
          "height": 85
        }
      },
      "source": [
        "x = int(input(\"Enter number of working days this month: \"))\n",
        "y = int(input(\"Total working weekends: \"))\n",
        "if x<=31:\n",
        "  if y<=10:\n",
        "    if x+y==31 or x+y==30: \n",
        "      total=x*1000 + y*3000\n",
        "      print(f\"Total Salary this month is {total}\")\n",
        "    else:\n",
        "      total=x*1000 + y*3000\n",
        "      print(f\"Total Salary this month is {total}\")\n",
        "      print(f\"You were absent for {31-(x+y)} days.Monthly Days tally do not match with 31 or 30 days\")\n",
        "  else:\n",
        "    print(\"Please Enter proper weekend working days\")\n",
        "else:\n",
        "  print(\"Please Enter proper working days\")"
      ],
      "execution_count": 0,
      "outputs": [
        {
          "output_type": "stream",
          "text": [
            "Enter number of working days this month: 22\n",
            "Total working weekends: 5\n",
            "Total Salary this month is 37000\n",
            "You were absent for 4 days.Monthly Days tally do not match with 31 or 30 days\n"
          ],
          "name": "stdout"
        }
      ]
    },
    {
      "cell_type": "code",
      "metadata": {
        "id": "p5jD_LBmq6lp",
        "colab_type": "code",
        "outputId": "73cf8b24-7dc4-4fb0-a94b-b11d67295480",
        "colab": {
          "base_uri": "https://localhost:8080/",
          "height": 187
        }
      },
      "source": [
        "x=[1,2,3,4,5,6,7,8,9,10]\n",
        "\n",
        "for i in x:\n",
        "  print(i)"
      ],
      "execution_count": 0,
      "outputs": [
        {
          "output_type": "stream",
          "text": [
            "1\n",
            "2\n",
            "3\n",
            "4\n",
            "5\n",
            "6\n",
            "7\n",
            "8\n",
            "9\n",
            "10\n"
          ],
          "name": "stdout"
        }
      ]
    },
    {
      "cell_type": "code",
      "metadata": {
        "id": "HX7VRxrcsVtT",
        "colab_type": "code",
        "outputId": "f903059a-1c52-4407-9867-fba3c6f346a7",
        "colab": {
          "base_uri": "https://localhost:8080/",
          "height": 187
        }
      },
      "source": [
        "# x=100\n",
        "# while(x>10):\n",
        "#   print('Hola!!!')\n",
        "  \n",
        "for i in range(100000,0,-10000):\n",
        "    print(i)"
      ],
      "execution_count": 0,
      "outputs": [
        {
          "output_type": "stream",
          "text": [
            "100000\n",
            "90000\n",
            "80000\n",
            "70000\n",
            "60000\n",
            "50000\n",
            "40000\n",
            "30000\n",
            "20000\n",
            "10000\n"
          ],
          "name": "stdout"
        }
      ]
    },
    {
      "cell_type": "code",
      "metadata": {
        "id": "eCgvddiEu1Z3",
        "colab_type": "code",
        "outputId": "c7a975b7-8de9-434f-9f03-e5ed4ec27f21",
        "colab": {
          "base_uri": "https://localhost:8080/",
          "height": 119
        }
      },
      "source": [
        "x=\"Dipesh\"\n",
        "for letters in x:\n",
        "  print(letters)"
      ],
      "execution_count": 0,
      "outputs": [
        {
          "output_type": "stream",
          "text": [
            "D\n",
            "i\n",
            "p\n",
            "e\n",
            "s\n",
            "h\n"
          ],
          "name": "stdout"
        }
      ]
    },
    {
      "cell_type": "code",
      "metadata": {
        "id": "Af1NU5dbvoO_",
        "colab_type": "code",
        "outputId": "adc36ea5-6575-4cc6-e774-379d6d4b9435",
        "colab": {
          "base_uri": "https://localhost:8080/",
          "height": 54
        }
      },
      "source": [
        "Alphabets = ['A', 'B', 'C', 'D', 'E', 'F', 'G', 'H', 'I', 'J', 'K', 'L', 'M', 'N', 'O', 'P', 'Q', 'R', 'S', 'T', 'U', 'V', 'W', 'X', 'Y', 'Z']\n",
        "Numbers = [0, 1, 2, 3, 4, 5, 6, 7, 8, 9, 10, 11, 12, 13, 14, 15, 16, 17, 18, 19, 20, 21, 22, 23, 24, 25, 26, 27]\n",
        "\n",
        "AlphaNumbers = [Alphabets,Numbers]\n",
        "print(AlphaNumbers)\n",
        "# for number in Numbers:\n",
        "#   print(number)"
      ],
      "execution_count": 0,
      "outputs": [
        {
          "output_type": "stream",
          "text": [
            "[['A', 'B', 'C', 'D', 'E', 'F', 'G', 'H', 'I', 'J', 'K', 'L', 'M', 'N', 'O', 'P', 'Q', 'R', 'S', 'T', 'U', 'V', 'W', 'X', 'Y', 'Z'], [0, 1, 2, 3, 4, 5, 6, 7, 8, 9, 10, 11, 12, 13, 14, 15, 16, 17, 18, 19, 20, 21, 22, 23, 24, 25, 26, 27]]\n"
          ],
          "name": "stdout"
        }
      ]
    },
    {
      "cell_type": "code",
      "metadata": {
        "id": "yMxF_NWI01ZW",
        "colab_type": "code",
        "outputId": "fa6c8e44-2c10-4f92-d42d-6e56ead175db",
        "colab": {
          "base_uri": "https://localhost:8080/",
          "height": 34
        }
      },
      "source": [
        "Alphabets = ['A', 'B', 'C', 'D', 'E', 'F', 'G', 'H', 'I', 'J', 'K', 'L', 'M', 'N', 'O', 'P', 'Q', 'R', 'S', 'T', 'U', 'V', 'W', 'X', 'Y', 'Z']\n",
        "newAlphabets = []\n",
        "\n",
        "for i in Alphabets:\n",
        "  print(i,end=\" \")\n",
        "  newAlphabets += i\n",
        "  print(len(newAlphabets), end=\" \")\n",
        "#   while len(newAlphabets) <10:\n",
        "#     print(newAlphabets,end=\" \")"
      ],
      "execution_count": 0,
      "outputs": [
        {
          "output_type": "stream",
          "text": [
            "A 1 B 2 C 3 D 4 E 5 F 6 G 7 H 8 I 9 J 10 K 11 L 12 M 13 N 14 O 15 P 16 Q 17 R 18 S 19 T 20 U 21 V 22 W 23 X 24 Y 25 Z 26 "
          ],
          "name": "stdout"
        }
      ]
    },
    {
      "cell_type": "code",
      "metadata": {
        "id": "ZxCkjCr73Jnj",
        "colab_type": "code",
        "outputId": "12528126-952d-49dc-a45d-dd9f1382631d",
        "colab": {
          "base_uri": "https://localhost:8080/",
          "height": 51
        }
      },
      "source": [
        "number = int(input(\"Please Enter nth value: \"))\n",
        "sum = 0\n",
        "\n",
        "for i in range (1,number+1):\n",
        "  sum = sum + i\n",
        "print(f\"Sum of {number} natural numbers is: {sum}\")"
      ],
      "execution_count": 0,
      "outputs": [
        {
          "output_type": "stream",
          "text": [
            "Please Enter nth value: 10\n",
            "Sum of 10 natural numbers is: 55\n"
          ],
          "name": "stdout"
        }
      ]
    },
    {
      "cell_type": "code",
      "metadata": {
        "id": "samtCNW-GldF",
        "colab_type": "code",
        "outputId": "62498fe7-10a4-462a-ce59-1ce05b09b7e5",
        "colab": {
          "base_uri": "https://localhost:8080/",
          "height": 51
        }
      },
      "source": [
        "number = int(input(\"Please Enter nth value: \"))\n",
        "product = 1\n",
        "\n",
        "for i in range (1,number+1):\n",
        "  product *= i\n",
        "print(f\"Sum of {number} natural numbers is: {product}\")"
      ],
      "execution_count": 0,
      "outputs": [
        {
          "output_type": "stream",
          "text": [
            "Please Enter nth value: 3\n",
            "Sum of 3 natural numbers is: 6\n"
          ],
          "name": "stdout"
        }
      ]
    },
    {
      "cell_type": "code",
      "metadata": {
        "id": "GMtMFNbF5mbP",
        "colab_type": "code",
        "outputId": "27f26c5c-df1b-4905-97bf-e68392b3ab8c",
        "colab": {
          "base_uri": "https://localhost:8080/",
          "height": 51
        }
      },
      "source": [
        "number = int(input(\"Please Enter nth value: \"))\n",
        "sum = 0\n",
        "i = 0\n",
        "\n",
        "while(i<=number):\n",
        "  sum = sum + i\n",
        "  i=i+1\n",
        "print(f\"Sum of {number} natural numbers is: {sum}\")"
      ],
      "execution_count": 0,
      "outputs": [
        {
          "output_type": "stream",
          "text": [
            "Please Enter nth value: 10\n",
            "Sum of 10 natural numbers is: 55\n"
          ],
          "name": "stdout"
        }
      ]
    }
  ]
}