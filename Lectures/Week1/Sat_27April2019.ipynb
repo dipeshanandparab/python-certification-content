{
  "nbformat": 4,
  "nbformat_minor": 0,
  "metadata": {
    "colab": {
      "name": "My_First_Code.ipynb",
      "version": "0.3.2",
      "provenance": []
    },
    "kernelspec": {
      "name": "python3",
      "display_name": "Python 3"
    },
    "accelerator": "GPU"
  },
  "cells": [
    {
      "cell_type": "code",
      "metadata": {
        "id": "8eL37q-x1V2M",
        "colab_type": "code",
        "outputId": "3e444696-127b-4a52-be07-819b0e0ee654",
        "colab": {
          "base_uri": "https://localhost:8080/",
          "height": 34
        }
      },
      "source": [
        "print(\"My First Code On Colab !\")"
      ],
      "execution_count": 0,
      "outputs": [
        {
          "output_type": "stream",
          "text": [
            "My First Code On Colab !\n"
          ],
          "name": "stdout"
        }
      ]
    }
  ]
}