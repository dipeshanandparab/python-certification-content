{
  "nbformat": 4,
  "nbformat_minor": 0,
  "metadata": {
    "colab": {
      "name": "Python_Day2_28April2019.ipynb",
      "version": "0.3.2",
      "provenance": [],
      "collapsed_sections": []
    },
    "kernelspec": {
      "name": "python3",
      "display_name": "Python 3"
    },
    "accelerator": "GPU"
  },
  "cells": [
    {
      "cell_type": "code",
      "metadata": {
        "id": "s6hffH8YKiKu",
        "colab_type": "code",
        "colab": {}
      },
      "source": [
        "#Basic Arithmatic Operations\n",
        "a=int(input(\"Kindly Enter First Number:\"))\n",
        "b=int(input(\"Kindly Enter Second Number:\"))\n",
        "c=a+b\n",
        "d=a-b\n",
        "e=a*b\n",
        "f=a/b\n",
        "\n",
        "print(f\"Addition of {a} and {b} is {c}\")\n",
        "print(f\"Subtraction of {a} and {b} is {d}\")\n",
        "print(f\"Product of {a} and {b} is {e}\")\n",
        "print(f\"Division of {a} and {b} is {f}\")"
      ],
      "execution_count": 0,
      "outputs": []
    },
    {
      "cell_type": "code",
      "metadata": {
        "id": "YNM-UyPGW3MC",
        "colab_type": "code",
        "colab": {}
      },
      "source": [
        "#User Input\n",
        "a=int(input(\"Kindly Enter an Integer: \"))\n",
        "b=float(input(\"Kindly Enter a Float Value: \"))\n",
        "c=input(\"Kindly Enter a String: \")\n",
        "d=a>b\n",
        "\n",
        "print(d)\n",
        "print(c)"
      ],
      "execution_count": 0,
      "outputs": []
    },
    {
      "cell_type": "code",
      "metadata": {
        "id": "CyfxEudTa-uc",
        "colab_type": "code",
        "colab": {}
      },
      "source": [
        "#String Formating\n",
        "a=int(input(\"Kindly Enter First Integer: \"))\n",
        "b=int(input(\"Kindly Enter Second Integer: \"))\n",
        "c=int(input(\"Kindly Enter Third Integer: \"))\n",
        "d=int(input(\"Kindly Enter Fourth Integer: \"))\n",
        "e=int(input(\"Kindly Enter Fifth Integer: \"))\n",
        "f=int(input(\"Kindly Enter Sixth Integer: \"))\n",
        "g=int(input(\"Kindly Enter Seventh Integer: \"))\n",
        "h=int(input(\"Kindly Enter Eighth Integer: \"))\n",
        "\n",
        "i=a+b\n",
        "j=c-d\n",
        "k=e*f\n",
        "l=g/h\n",
        "\n",
        "m=i<j\n",
        "n=k>l\n",
        "\n",
        "print(f\"n is {n}\\nm is {m}\")"
      ],
      "execution_count": 0,
      "outputs": []
    },
    {
      "cell_type": "code",
      "metadata": {
        "id": "EC0C_MvWcs6E",
        "colab_type": "code",
        "colab": {}
      },
      "source": [
        "#if-else-elif\n",
        "a=int(input(\"Kindly Enter First Integer: \"))\n",
        "b=int(input(\"Kindly Enter Second Integer: \"))\n",
        "c=b/a\n",
        "d=b*a\n",
        "e=d>=c\n",
        "f=d<=c\n",
        "\n",
        "if(e):\n",
        "  print(\"LOL\")\n",
        "elif(f):\n",
        "  print(\"Double LOL\")\n",
        "else:\n",
        "  print(\":-)\")"
      ],
      "execution_count": 0,
      "outputs": []
    },
    {
      "cell_type": "code",
      "metadata": {
        "id": "SyOlQP5vuPt1",
        "colab_type": "code",
        "colab": {}
      },
      "source": [
        "#and operator\n",
        "a=int(input(\"Enter value of a: \"))\n",
        "b=int(input(\"Enter value of b: \"))\n",
        "c=int(input(\"Enter value of c: \"))\n",
        "\n",
        "if(a>b and a>c):\n",
        "  print(\"a is greater than b and c\")\n",
        "elif(b>a and b>c):\n",
        "  print(\"b is greater than a and c\")\n",
        "else:\n",
        "  print(\"c is greater than a and b\")"
      ],
      "execution_count": 0,
      "outputs": []
    },
    {
      "cell_type": "code",
      "metadata": {
        "id": "padb36-W5bFM",
        "colab_type": "code",
        "colab": {}
      },
      "source": [
        "#nested if-else\n",
        "a=int(input(\"Enter value of a: \"))\n",
        "b=int(input(\"Enter value of b: \"))\n",
        "c=int(input(\"Enter value of c: \"))\n",
        "\n",
        "if(a>b):\n",
        "  if(a>c):\n",
        "    print(\"a is greater than b and c\")\n",
        "  else:\n",
        "    print(\"c is greater than a and b\")\n",
        "else:\n",
        "  if(b>a):\n",
        "    if(b>c):\n",
        "      print(\"b is greater than a and c\")\n",
        "    else:\n",
        "      print(\"c is greater than a and b\")"
      ],
      "execution_count": 0,
      "outputs": []
    },
    {
      "cell_type": "code",
      "metadata": {
        "id": "Zw_okdjc6qOj",
        "colab_type": "code",
        "colab": {}
      },
      "source": [
        "#nested if-else\n",
        "x=int(input(\"Enter value of x: \"))\n",
        "y=int(input(\"Enter value of y: \"))\n",
        "z=int(input(\"Enter value of z: \"))\n",
        "\n",
        "if(x>y):\n",
        "  if(x==z):\n",
        "    print(\"LOL\")\n",
        "else:\n",
        "  if(x<y):\n",
        "    if(x!=z):\n",
        "      print(\"Double LOL\")"
      ],
      "execution_count": 0,
      "outputs": []
    },
    {
      "cell_type": "code",
      "metadata": {
        "id": "_uBQ1tDx_19r",
        "colab_type": "code",
        "outputId": "d43d2c24-3d3d-4ba1-ccfe-5ffb5333919c",
        "colab": {
          "base_uri": "https://localhost:8080/",
          "height": 51
        }
      },
      "source": [
        "#Assignement operator vs Comparision operator \n",
        "x=2\n",
        "y=2\n",
        "z=(x==y)\n",
        "x=y\n",
        "print(type(x))\n",
        "print(type(z))"
      ],
      "execution_count": 1,
      "outputs": [
        {
          "output_type": "stream",
          "text": [
            "<class 'int'>\n",
            "<class 'bool'>\n"
          ],
          "name": "stdout"
        }
      ]
    }
  ]
}